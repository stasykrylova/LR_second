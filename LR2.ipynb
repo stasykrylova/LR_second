{
 "cells": [
  {
   "cell_type": "code",
   "execution_count": 1,
   "metadata": {},
   "outputs": [
    {
     "data": {
      "text/html": [
       "<div>\n",
       "<style scoped>\n",
       "    .dataframe tbody tr th:only-of-type {\n",
       "        vertical-align: middle;\n",
       "    }\n",
       "\n",
       "    .dataframe tbody tr th {\n",
       "        vertical-align: top;\n",
       "    }\n",
       "\n",
       "    .dataframe thead th {\n",
       "        text-align: right;\n",
       "    }\n",
       "</style>\n",
       "<table border=\"1\" class=\"dataframe\">\n",
       "  <thead>\n",
       "    <tr style=\"text-align: right;\">\n",
       "      <th></th>\n",
       "      <th>weight</th>\n",
       "      <th>height</th>\n",
       "      <th>repwt</th>\n",
       "      <th>repht</th>\n",
       "      <th>sex_F</th>\n",
       "      <th>sex_M</th>\n",
       "    </tr>\n",
       "  </thead>\n",
       "  <tbody>\n",
       "    <tr>\n",
       "      <th>1</th>\n",
       "      <td>77</td>\n",
       "      <td>182</td>\n",
       "      <td>77.0</td>\n",
       "      <td>180.0</td>\n",
       "      <td>0</td>\n",
       "      <td>1</td>\n",
       "    </tr>\n",
       "    <tr>\n",
       "      <th>2</th>\n",
       "      <td>58</td>\n",
       "      <td>161</td>\n",
       "      <td>51.0</td>\n",
       "      <td>159.0</td>\n",
       "      <td>1</td>\n",
       "      <td>0</td>\n",
       "    </tr>\n",
       "    <tr>\n",
       "      <th>3</th>\n",
       "      <td>53</td>\n",
       "      <td>161</td>\n",
       "      <td>54.0</td>\n",
       "      <td>158.0</td>\n",
       "      <td>1</td>\n",
       "      <td>0</td>\n",
       "    </tr>\n",
       "    <tr>\n",
       "      <th>4</th>\n",
       "      <td>68</td>\n",
       "      <td>177</td>\n",
       "      <td>70.0</td>\n",
       "      <td>175.0</td>\n",
       "      <td>0</td>\n",
       "      <td>1</td>\n",
       "    </tr>\n",
       "    <tr>\n",
       "      <th>5</th>\n",
       "      <td>59</td>\n",
       "      <td>157</td>\n",
       "      <td>59.0</td>\n",
       "      <td>155.0</td>\n",
       "      <td>1</td>\n",
       "      <td>0</td>\n",
       "    </tr>\n",
       "    <tr>\n",
       "      <th>...</th>\n",
       "      <td>...</td>\n",
       "      <td>...</td>\n",
       "      <td>...</td>\n",
       "      <td>...</td>\n",
       "      <td>...</td>\n",
       "      <td>...</td>\n",
       "    </tr>\n",
       "    <tr>\n",
       "      <th>196</th>\n",
       "      <td>74</td>\n",
       "      <td>175</td>\n",
       "      <td>71.0</td>\n",
       "      <td>175.0</td>\n",
       "      <td>0</td>\n",
       "      <td>1</td>\n",
       "    </tr>\n",
       "    <tr>\n",
       "      <th>197</th>\n",
       "      <td>83</td>\n",
       "      <td>180</td>\n",
       "      <td>80.0</td>\n",
       "      <td>180.0</td>\n",
       "      <td>0</td>\n",
       "      <td>1</td>\n",
       "    </tr>\n",
       "    <tr>\n",
       "      <th>198</th>\n",
       "      <td>81</td>\n",
       "      <td>175</td>\n",
       "      <td>NaN</td>\n",
       "      <td>NaN</td>\n",
       "      <td>0</td>\n",
       "      <td>1</td>\n",
       "    </tr>\n",
       "    <tr>\n",
       "      <th>199</th>\n",
       "      <td>90</td>\n",
       "      <td>181</td>\n",
       "      <td>91.0</td>\n",
       "      <td>178.0</td>\n",
       "      <td>0</td>\n",
       "      <td>1</td>\n",
       "    </tr>\n",
       "    <tr>\n",
       "      <th>200</th>\n",
       "      <td>79</td>\n",
       "      <td>177</td>\n",
       "      <td>81.0</td>\n",
       "      <td>178.0</td>\n",
       "      <td>0</td>\n",
       "      <td>1</td>\n",
       "    </tr>\n",
       "  </tbody>\n",
       "</table>\n",
       "<p>200 rows × 6 columns</p>\n",
       "</div>"
      ],
      "text/plain": [
       "     weight  height  repwt  repht  sex_F  sex_M\n",
       "1        77     182   77.0  180.0      0      1\n",
       "2        58     161   51.0  159.0      1      0\n",
       "3        53     161   54.0  158.0      1      0\n",
       "4        68     177   70.0  175.0      0      1\n",
       "5        59     157   59.0  155.0      1      0\n",
       "..      ...     ...    ...    ...    ...    ...\n",
       "196      74     175   71.0  175.0      0      1\n",
       "197      83     180   80.0  180.0      0      1\n",
       "198      81     175    NaN    NaN      0      1\n",
       "199      90     181   91.0  178.0      0      1\n",
       "200      79     177   81.0  178.0      0      1\n",
       "\n",
       "[200 rows x 6 columns]"
      ]
     },
     "execution_count": 1,
     "metadata": {},
     "output_type": "execute_result"
    }
   ],
   "source": [
    "import pandas\n",
    "\n",
    "datas= pandas.read_csv('Davis.csv', index_col=0)\n",
    "pandas.get_dummies(datas, columns=['sex'])"
   ]
  },
  {
   "cell_type": "code",
   "execution_count": 2,
   "metadata": {},
   "outputs": [
    {
     "name": "stdout",
     "output_type": "stream",
     "text": [
      "0.7857142857142857\n"
     ]
    }
   ],
   "source": [
    "df=pandas.get_dummies(datas, columns=['sex'])\n",
    "man = (df[\"sex_F\"] <= 0).sum()\n",
    "women=(df[\"sex_M\"] <= 0).sum()\n",
    "print(man/women)"
   ]
  },
  {
   "cell_type": "code",
   "execution_count": 3,
   "metadata": {},
   "outputs": [
    {
     "name": "stdout",
     "output_type": "stream",
     "text": [
      "0.7857142857142857\n"
     ]
    }
   ],
   "source": [
    "from sklearn.model_selection import train_test_split\n",
    "train, test= train_test_split(df, test_size=0.5, stratify=df['sex_M'])\n",
    "man = (test[\"sex_F\"] <= 0).sum()\n",
    "women=(train[\"sex_M\"] <= 0).sum()\n",
    "print(man/women)\n"
   ]
  },
  {
   "cell_type": "code",
   "execution_count": 4,
   "metadata": {},
   "outputs": [
    {
     "data": {
      "text/plain": [
       "<matplotlib.axes._subplots.AxesSubplot at 0x1d48f267c40>"
      ]
     },
     "execution_count": 4,
     "metadata": {},
     "output_type": "execute_result"
    },
    {
     "data": {
      "image/png": "[encoded data removed]",
      "text/plain": [
       "<Figure size 432x288 with 2 Axes>"
      ]
     },
     "metadata": {
      "needs_background": "light"
     },
     "output_type": "display_data"
    }
   ],
   "source": [
    "import seaborn as sns\n",
    "cols = df.columns \n",
    "colours = ['#000099', '#ffff00'] \n",
    "sns.heatmap(df[cols].isnull(), cmap=sns.color_palette(colours))"
   ]
  },
  {
   "cell_type": "code",
   "execution_count": 5,
   "metadata": {},
   "outputs": [
    {
     "data": {
      "text/html": [
       "<div>\n",
       "<style scoped>\n",
       "    .dataframe tbody tr th:only-of-type {\n",
       "        vertical-align: middle;\n",
       "    }\n",
       "\n",
       "    .dataframe tbody tr th {\n",
       "        vertical-align: top;\n",
       "    }\n",
       "\n",
       "    .dataframe thead th {\n",
       "        text-align: right;\n",
       "    }\n",
       "</style>\n",
       "<table border=\"1\" class=\"dataframe\">\n",
       "  <thead>\n",
       "    <tr style=\"text-align: right;\">\n",
       "      <th></th>\n",
       "      <th>weight</th>\n",
       "      <th>height</th>\n",
       "      <th>repwt</th>\n",
       "      <th>repht</th>\n",
       "      <th>sex_F</th>\n",
       "      <th>sex_M</th>\n",
       "    </tr>\n",
       "  </thead>\n",
       "  <tbody>\n",
       "    <tr>\n",
       "      <th>count</th>\n",
       "      <td>200.000000</td>\n",
       "      <td>200.000000</td>\n",
       "      <td>183.000000</td>\n",
       "      <td>183.000000</td>\n",
       "      <td>200.000000</td>\n",
       "      <td>200.000000</td>\n",
       "    </tr>\n",
       "    <tr>\n",
       "      <th>mean</th>\n",
       "      <td>65.800000</td>\n",
       "      <td>170.020000</td>\n",
       "      <td>65.622951</td>\n",
       "      <td>168.497268</td>\n",
       "      <td>0.560000</td>\n",
       "      <td>0.440000</td>\n",
       "    </tr>\n",
       "    <tr>\n",
       "      <th>std</th>\n",
       "      <td>15.095009</td>\n",
       "      <td>12.007937</td>\n",
       "      <td>13.776669</td>\n",
       "      <td>9.467048</td>\n",
       "      <td>0.497633</td>\n",
       "      <td>0.497633</td>\n",
       "    </tr>\n",
       "    <tr>\n",
       "      <th>min</th>\n",
       "      <td>39.000000</td>\n",
       "      <td>57.000000</td>\n",
       "      <td>41.000000</td>\n",
       "      <td>148.000000</td>\n",
       "      <td>0.000000</td>\n",
       "      <td>0.000000</td>\n",
       "    </tr>\n",
       "    <tr>\n",
       "      <th>25%</th>\n",
       "      <td>55.000000</td>\n",
       "      <td>164.000000</td>\n",
       "      <td>55.000000</td>\n",
       "      <td>160.500000</td>\n",
       "      <td>0.000000</td>\n",
       "      <td>0.000000</td>\n",
       "    </tr>\n",
       "    <tr>\n",
       "      <th>50%</th>\n",
       "      <td>63.000000</td>\n",
       "      <td>169.500000</td>\n",
       "      <td>63.000000</td>\n",
       "      <td>168.000000</td>\n",
       "      <td>1.000000</td>\n",
       "      <td>0.000000</td>\n",
       "    </tr>\n",
       "    <tr>\n",
       "      <th>75%</th>\n",
       "      <td>74.000000</td>\n",
       "      <td>177.250000</td>\n",
       "      <td>73.500000</td>\n",
       "      <td>175.000000</td>\n",
       "      <td>1.000000</td>\n",
       "      <td>1.000000</td>\n",
       "    </tr>\n",
       "    <tr>\n",
       "      <th>max</th>\n",
       "      <td>166.000000</td>\n",
       "      <td>197.000000</td>\n",
       "      <td>124.000000</td>\n",
       "      <td>200.000000</td>\n",
       "      <td>1.000000</td>\n",
       "      <td>1.000000</td>\n",
       "    </tr>\n",
       "  </tbody>\n",
       "</table>\n",
       "</div>"
      ],
      "text/plain": [
       "           weight      height       repwt       repht       sex_F       sex_M\n",
       "count  200.000000  200.000000  183.000000  183.000000  200.000000  200.000000\n",
       "mean    65.800000  170.020000   65.622951  168.497268    0.560000    0.440000\n",
       "std     15.095009   12.007937   13.776669    9.467048    0.497633    0.497633\n",
       "min     39.000000   57.000000   41.000000  148.000000    0.000000    0.000000\n",
       "25%     55.000000  164.000000   55.000000  160.500000    0.000000    0.000000\n",
       "50%     63.000000  169.500000   63.000000  168.000000    1.000000    0.000000\n",
       "75%     74.000000  177.250000   73.500000  175.000000    1.000000    1.000000\n",
       "max    166.000000  197.000000  124.000000  200.000000    1.000000    1.000000"
      ]
     },
     "execution_count": 5,
     "metadata": {},
     "output_type": "execute_result"
    }
   ],
   "source": [
    "df[cols].describe()"
   ]
  },
  {
   "cell_type": "code",
   "execution_count": 6,
   "metadata": {},
   "outputs": [
    {
     "data": {
      "text/plain": [
       "<matplotlib.axes._subplots.AxesSubplot at 0x1d48f443dc0>"
      ]
     },
     "execution_count": 6,
     "metadata": {},
     "output_type": "execute_result"
    },
    {
     "data": {
      "image/png": "[encoded data removed]",
      "text/plain": [
       "<Figure size 432x288 with 1 Axes>"
      ]
     },
     "metadata": {
      "needs_background": "light"
     },
     "output_type": "display_data"
    }
   ],
   "source": [
    "df['weight'].plot.bar()"
   ]
  },
  {
   "cell_type": "code",
   "execution_count": 7,
   "metadata": {},
   "outputs": [
    {
     "data": {
      "text/plain": [
       "<matplotlib.axes._subplots.AxesSubplot at 0x1d48ff139a0>"
      ]
     },
     "execution_count": 7,
     "metadata": {},
     "output_type": "execute_result"
    },
    {
     "data": {
      "image/png": "[encoded data removed]",
      "text/plain": [
       "<Figure size 432x288 with 1 Axes>"
      ]
     },
     "metadata": {
      "needs_background": "light"
     },
     "output_type": "display_data"
    }
   ],
   "source": [
    "df['height'].plot.bar()\n"
   ]
  },
  {
   "cell_type": "code",
   "execution_count": 8,
   "metadata": {},
   "outputs": [
    {
     "data": {
      "text/plain": [
       "<matplotlib.axes._subplots.AxesSubplot at 0x1d4902ea580>"
      ]
     },
     "execution_count": 8,
     "metadata": {},
     "output_type": "execute_result"
    },
    {
     "data": {
      "image/png": "[encoded data removed]",
      "text/plain": [
       "<Figure size 432x288 with 1 Axes>"
      ]
     },
     "metadata": {
      "needs_background": "light"
     },
     "output_type": "display_data"
    }
   ],
   "source": [
    "df['repwt'].plot.bar()"
   ]
  },
  {
   "cell_type": "code",
   "execution_count": 9,
   "metadata": {},
   "outputs": [
    {
     "data": {
      "text/plain": [
       "<matplotlib.axes._subplots.AxesSubplot at 0x1d4902eadc0>"
      ]
     },
     "execution_count": 9,
     "metadata": {},
     "output_type": "execute_result"
    },
    {
     "data": {
      "image/png": "[encoded data removed]",
      "text/plain": [
       "<Figure size 432x288 with 1 Axes>"
      ]
     },
     "metadata": {
      "needs_background": "light"
     },
     "output_type": "display_data"
    }
   ],
   "source": [
    "df['repht'].plot.bar()"
   ]
  },
  {
   "cell_type": "code",
   "execution_count": 10,
   "metadata": {},
   "outputs": [
    {
     "data": {
      "text/plain": [
       "<matplotlib.collections.PathCollection at 0x1d491a87940>"
      ]
     },
     "execution_count": 10,
     "metadata": {},
     "output_type": "execute_result"
    },
    {
     "data": {
      "image/png": "[encoded data removed]",
      "text/plain": [
       "<Figure size 432x288 with 1 Axes>"
      ]
     },
     "metadata": {
      "needs_background": "light"
     },
     "output_type": "display_data"
    }
   ],
   "source": [
    "import matplotlib.pyplot as plt\n",
    "plt.scatter(df[\"weight\"],df['height'], c= df['sex_M'])"
   ]
  },
  {
   "cell_type": "code",
   "execution_count": 11,
   "metadata": {},
   "outputs": [
    {
     "data": {
      "text/plain": [
       "<matplotlib.collections.PathCollection at 0x1d491ae1ee0>"
      ]
     },
     "execution_count": 11,
     "metadata": {},
     "output_type": "execute_result"
    },
    {
     "data": {
      "image/png": "[encoded data removed]",
      "text/plain": [
       "<Figure size 432x288 with 1 Axes>"
      ]
     },
     "metadata": {
      "needs_background": "light"
     },
     "output_type": "display_data"
    }
   ],
   "source": [
    "plt.scatter(df['repwt'], df['repht'], c= df['sex_M'])"
   ]
  },
  {
   "cell_type": "code",
   "execution_count": 12,
   "metadata": {},
   "outputs": [
    {
     "data": {
      "text/html": [
       "<div>\n",
       "<style scoped>\n",
       "    .dataframe tbody tr th:only-of-type {\n",
       "        vertical-align: middle;\n",
       "    }\n",
       "\n",
       "    .dataframe tbody tr th {\n",
       "        vertical-align: top;\n",
       "    }\n",
       "\n",
       "    .dataframe thead th {\n",
       "        text-align: right;\n",
       "    }\n",
       "</style>\n",
       "<table border=\"1\" class=\"dataframe\">\n",
       "  <thead>\n",
       "    <tr style=\"text-align: right;\">\n",
       "      <th></th>\n",
       "      <th>weight</th>\n",
       "      <th>height</th>\n",
       "      <th>repwt</th>\n",
       "      <th>repht</th>\n",
       "      <th>sex_F</th>\n",
       "      <th>sex_M</th>\n",
       "    </tr>\n",
       "  </thead>\n",
       "  <tbody>\n",
       "    <tr>\n",
       "      <th>1</th>\n",
       "      <td>77</td>\n",
       "      <td>182</td>\n",
       "      <td>77.0</td>\n",
       "      <td>180.0</td>\n",
       "      <td>0</td>\n",
       "      <td>1</td>\n",
       "    </tr>\n",
       "    <tr>\n",
       "      <th>2</th>\n",
       "      <td>58</td>\n",
       "      <td>161</td>\n",
       "      <td>51.0</td>\n",
       "      <td>159.0</td>\n",
       "      <td>1</td>\n",
       "      <td>0</td>\n",
       "    </tr>\n",
       "    <tr>\n",
       "      <th>3</th>\n",
       "      <td>53</td>\n",
       "      <td>161</td>\n",
       "      <td>54.0</td>\n",
       "      <td>158.0</td>\n",
       "      <td>1</td>\n",
       "      <td>0</td>\n",
       "    </tr>\n",
       "    <tr>\n",
       "      <th>4</th>\n",
       "      <td>68</td>\n",
       "      <td>177</td>\n",
       "      <td>70.0</td>\n",
       "      <td>175.0</td>\n",
       "      <td>0</td>\n",
       "      <td>1</td>\n",
       "    </tr>\n",
       "    <tr>\n",
       "      <th>5</th>\n",
       "      <td>59</td>\n",
       "      <td>157</td>\n",
       "      <td>59.0</td>\n",
       "      <td>155.0</td>\n",
       "      <td>1</td>\n",
       "      <td>0</td>\n",
       "    </tr>\n",
       "    <tr>\n",
       "      <th>...</th>\n",
       "      <td>...</td>\n",
       "      <td>...</td>\n",
       "      <td>...</td>\n",
       "      <td>...</td>\n",
       "      <td>...</td>\n",
       "      <td>...</td>\n",
       "    </tr>\n",
       "    <tr>\n",
       "      <th>196</th>\n",
       "      <td>74</td>\n",
       "      <td>175</td>\n",
       "      <td>71.0</td>\n",
       "      <td>175.0</td>\n",
       "      <td>0</td>\n",
       "      <td>1</td>\n",
       "    </tr>\n",
       "    <tr>\n",
       "      <th>197</th>\n",
       "      <td>83</td>\n",
       "      <td>180</td>\n",
       "      <td>80.0</td>\n",
       "      <td>180.0</td>\n",
       "      <td>0</td>\n",
       "      <td>1</td>\n",
       "    </tr>\n",
       "    <tr>\n",
       "      <th>198</th>\n",
       "      <td>81</td>\n",
       "      <td>175</td>\n",
       "      <td>NaN</td>\n",
       "      <td>NaN</td>\n",
       "      <td>0</td>\n",
       "      <td>1</td>\n",
       "    </tr>\n",
       "    <tr>\n",
       "      <th>199</th>\n",
       "      <td>90</td>\n",
       "      <td>181</td>\n",
       "      <td>91.0</td>\n",
       "      <td>178.0</td>\n",
       "      <td>0</td>\n",
       "      <td>1</td>\n",
       "    </tr>\n",
       "    <tr>\n",
       "      <th>200</th>\n",
       "      <td>79</td>\n",
       "      <td>177</td>\n",
       "      <td>81.0</td>\n",
       "      <td>178.0</td>\n",
       "      <td>0</td>\n",
       "      <td>1</td>\n",
       "    </tr>\n",
       "  </tbody>\n",
       "</table>\n",
       "<p>200 rows × 6 columns</p>\n",
       "</div>"
      ],
      "text/plain": [
       "     weight  height  repwt  repht  sex_F  sex_M\n",
       "1        77     182   77.0  180.0      0      1\n",
       "2        58     161   51.0  159.0      1      0\n",
       "3        53     161   54.0  158.0      1      0\n",
       "4        68     177   70.0  175.0      0      1\n",
       "5        59     157   59.0  155.0      1      0\n",
       "..      ...     ...    ...    ...    ...    ...\n",
       "196      74     175   71.0  175.0      0      1\n",
       "197      83     180   80.0  180.0      0      1\n",
       "198      81     175    NaN    NaN      0      1\n",
       "199      90     181   91.0  178.0      0      1\n",
       "200      79     177   81.0  178.0      0      1\n",
       "\n",
       "[200 rows x 6 columns]"
      ]
     },
     "execution_count": 12,
     "metadata": {},
     "output_type": "execute_result"
    }
   ],
   "source": [
    "df = df.drop_duplicates()\n",
    "df"
   ]
  },
  {
   "cell_type": "code",
   "execution_count": 13,
   "metadata": {},
   "outputs": [
    {
     "data": {
      "text/html": [
       "<div>\n",
       "<style scoped>\n",
       "    .dataframe tbody tr th:only-of-type {\n",
       "        vertical-align: middle;\n",
       "    }\n",
       "\n",
       "    .dataframe tbody tr th {\n",
       "        vertical-align: top;\n",
       "    }\n",
       "\n",
       "    .dataframe thead th {\n",
       "        text-align: right;\n",
       "    }\n",
       "</style>\n",
       "<table border=\"1\" class=\"dataframe\">\n",
       "  <thead>\n",
       "    <tr style=\"text-align: right;\">\n",
       "      <th></th>\n",
       "      <th>weight</th>\n",
       "      <th>height</th>\n",
       "      <th>repwt</th>\n",
       "      <th>repht</th>\n",
       "      <th>sex_F</th>\n",
       "      <th>sex_M</th>\n",
       "    </tr>\n",
       "  </thead>\n",
       "  <tbody>\n",
       "    <tr>\n",
       "      <th>130</th>\n",
       "      <td>44</td>\n",
       "      <td>157</td>\n",
       "      <td>44.0</td>\n",
       "      <td>155.0</td>\n",
       "      <td>1</td>\n",
       "      <td>0</td>\n",
       "    </tr>\n",
       "    <tr>\n",
       "      <th>175</th>\n",
       "      <td>62</td>\n",
       "      <td>168</td>\n",
       "      <td>64.0</td>\n",
       "      <td>168.0</td>\n",
       "      <td>0</td>\n",
       "      <td>1</td>\n",
       "    </tr>\n",
       "    <tr>\n",
       "      <th>101</th>\n",
       "      <td>55</td>\n",
       "      <td>164</td>\n",
       "      <td>55.0</td>\n",
       "      <td>163.0</td>\n",
       "      <td>1</td>\n",
       "      <td>0</td>\n",
       "    </tr>\n",
       "    <tr>\n",
       "      <th>156</th>\n",
       "      <td>54</td>\n",
       "      <td>169</td>\n",
       "      <td>58.0</td>\n",
       "      <td>165.0</td>\n",
       "      <td>0</td>\n",
       "      <td>1</td>\n",
       "    </tr>\n",
       "    <tr>\n",
       "      <th>199</th>\n",
       "      <td>90</td>\n",
       "      <td>181</td>\n",
       "      <td>91.0</td>\n",
       "      <td>178.0</td>\n",
       "      <td>0</td>\n",
       "      <td>1</td>\n",
       "    </tr>\n",
       "    <tr>\n",
       "      <th>...</th>\n",
       "      <td>...</td>\n",
       "      <td>...</td>\n",
       "      <td>...</td>\n",
       "      <td>...</td>\n",
       "      <td>...</td>\n",
       "      <td>...</td>\n",
       "    </tr>\n",
       "    <tr>\n",
       "      <th>169</th>\n",
       "      <td>96</td>\n",
       "      <td>191</td>\n",
       "      <td>95.0</td>\n",
       "      <td>188.0</td>\n",
       "      <td>0</td>\n",
       "      <td>1</td>\n",
       "    </tr>\n",
       "    <tr>\n",
       "      <th>195</th>\n",
       "      <td>62</td>\n",
       "      <td>164</td>\n",
       "      <td>61.0</td>\n",
       "      <td>161.0</td>\n",
       "      <td>1</td>\n",
       "      <td>0</td>\n",
       "    </tr>\n",
       "    <tr>\n",
       "      <th>36</th>\n",
       "      <td>64</td>\n",
       "      <td>176</td>\n",
       "      <td>65.0</td>\n",
       "      <td>175.0</td>\n",
       "      <td>0</td>\n",
       "      <td>1</td>\n",
       "    </tr>\n",
       "    <tr>\n",
       "      <th>163</th>\n",
       "      <td>53</td>\n",
       "      <td>162</td>\n",
       "      <td>52.0</td>\n",
       "      <td>158.0</td>\n",
       "      <td>1</td>\n",
       "      <td>0</td>\n",
       "    </tr>\n",
       "    <tr>\n",
       "      <th>9</th>\n",
       "      <td>71</td>\n",
       "      <td>178</td>\n",
       "      <td>71.0</td>\n",
       "      <td>175.0</td>\n",
       "      <td>0</td>\n",
       "      <td>1</td>\n",
       "    </tr>\n",
       "  </tbody>\n",
       "</table>\n",
       "<p>90 rows × 6 columns</p>\n",
       "</div>"
      ],
      "text/plain": [
       "     weight  height  repwt  repht  sex_F  sex_M\n",
       "130      44     157   44.0  155.0      1      0\n",
       "175      62     168   64.0  168.0      0      1\n",
       "101      55     164   55.0  163.0      1      0\n",
       "156      54     169   58.0  165.0      0      1\n",
       "199      90     181   91.0  178.0      0      1\n",
       "..      ...     ...    ...    ...    ...    ...\n",
       "169      96     191   95.0  188.0      0      1\n",
       "195      62     164   61.0  161.0      1      0\n",
       "36       64     176   65.0  175.0      0      1\n",
       "163      53     162   52.0  158.0      1      0\n",
       "9        71     178   71.0  175.0      0      1\n",
       "\n",
       "[90 rows x 6 columns]"
      ]
     },
     "execution_count": 13,
     "metadata": {},
     "output_type": "execute_result"
    }
   ],
   "source": [
    "from scipy import stats\n",
    "import numpy as np\n",
    "train=train.dropna(axis=0)\n",
    "train_df=train[(np.abs(stats.zscore(train)) < 3).all(axis=1)]\n",
    "train_df"
   ]
  },
  {
   "cell_type": "code",
   "execution_count": 14,
   "metadata": {},
   "outputs": [
    {
     "data": {
      "text/html": [
       "<div>\n",
       "<style scoped>\n",
       "    .dataframe tbody tr th:only-of-type {\n",
       "        vertical-align: middle;\n",
       "    }\n",
       "\n",
       "    .dataframe tbody tr th {\n",
       "        vertical-align: top;\n",
       "    }\n",
       "\n",
       "    .dataframe thead th {\n",
       "        text-align: right;\n",
       "    }\n",
       "</style>\n",
       "<table border=\"1\" class=\"dataframe\">\n",
       "  <thead>\n",
       "    <tr style=\"text-align: right;\">\n",
       "      <th></th>\n",
       "      <th>weight</th>\n",
       "      <th>height</th>\n",
       "      <th>repwt</th>\n",
       "      <th>repht</th>\n",
       "      <th>sex_F</th>\n",
       "      <th>sex_M</th>\n",
       "    </tr>\n",
       "  </thead>\n",
       "  <tbody>\n",
       "    <tr>\n",
       "      <th>187</th>\n",
       "      <td>60</td>\n",
       "      <td>172</td>\n",
       "      <td>55.0</td>\n",
       "      <td>168.0</td>\n",
       "      <td>1</td>\n",
       "      <td>0</td>\n",
       "    </tr>\n",
       "    <tr>\n",
       "      <th>24</th>\n",
       "      <td>66</td>\n",
       "      <td>173</td>\n",
       "      <td>70.0</td>\n",
       "      <td>170.0</td>\n",
       "      <td>0</td>\n",
       "      <td>1</td>\n",
       "    </tr>\n",
       "    <tr>\n",
       "      <th>67</th>\n",
       "      <td>64</td>\n",
       "      <td>165</td>\n",
       "      <td>63.0</td>\n",
       "      <td>163.0</td>\n",
       "      <td>1</td>\n",
       "      <td>0</td>\n",
       "    </tr>\n",
       "    <tr>\n",
       "      <th>117</th>\n",
       "      <td>83</td>\n",
       "      <td>184</td>\n",
       "      <td>83.0</td>\n",
       "      <td>181.0</td>\n",
       "      <td>0</td>\n",
       "      <td>1</td>\n",
       "    </tr>\n",
       "    <tr>\n",
       "      <th>65</th>\n",
       "      <td>97</td>\n",
       "      <td>189</td>\n",
       "      <td>98.0</td>\n",
       "      <td>185.0</td>\n",
       "      <td>0</td>\n",
       "      <td>1</td>\n",
       "    </tr>\n",
       "    <tr>\n",
       "      <th>...</th>\n",
       "      <td>...</td>\n",
       "      <td>...</td>\n",
       "      <td>...</td>\n",
       "      <td>...</td>\n",
       "      <td>...</td>\n",
       "      <td>...</td>\n",
       "    </tr>\n",
       "    <tr>\n",
       "      <th>42</th>\n",
       "      <td>80</td>\n",
       "      <td>178</td>\n",
       "      <td>80.0</td>\n",
       "      <td>178.0</td>\n",
       "      <td>0</td>\n",
       "      <td>1</td>\n",
       "    </tr>\n",
       "    <tr>\n",
       "      <th>162</th>\n",
       "      <td>54</td>\n",
       "      <td>161</td>\n",
       "      <td>54.0</td>\n",
       "      <td>160.0</td>\n",
       "      <td>1</td>\n",
       "      <td>0</td>\n",
       "    </tr>\n",
       "    <tr>\n",
       "      <th>74</th>\n",
       "      <td>56</td>\n",
       "      <td>163</td>\n",
       "      <td>57.0</td>\n",
       "      <td>159.0</td>\n",
       "      <td>1</td>\n",
       "      <td>0</td>\n",
       "    </tr>\n",
       "    <tr>\n",
       "      <th>139</th>\n",
       "      <td>90</td>\n",
       "      <td>188</td>\n",
       "      <td>91.0</td>\n",
       "      <td>185.0</td>\n",
       "      <td>0</td>\n",
       "      <td>1</td>\n",
       "    </tr>\n",
       "    <tr>\n",
       "      <th>160</th>\n",
       "      <td>57</td>\n",
       "      <td>167</td>\n",
       "      <td>56.0</td>\n",
       "      <td>165.0</td>\n",
       "      <td>1</td>\n",
       "      <td>0</td>\n",
       "    </tr>\n",
       "  </tbody>\n",
       "</table>\n",
       "<p>88 rows × 6 columns</p>\n",
       "</div>"
      ],
      "text/plain": [
       "     weight  height  repwt  repht  sex_F  sex_M\n",
       "187      60     172   55.0  168.0      1      0\n",
       "24       66     173   70.0  170.0      0      1\n",
       "67       64     165   63.0  163.0      1      0\n",
       "117      83     184   83.0  181.0      0      1\n",
       "65       97     189   98.0  185.0      0      1\n",
       "..      ...     ...    ...    ...    ...    ...\n",
       "42       80     178   80.0  178.0      0      1\n",
       "162      54     161   54.0  160.0      1      0\n",
       "74       56     163   57.0  159.0      1      0\n",
       "139      90     188   91.0  185.0      0      1\n",
       "160      57     167   56.0  165.0      1      0\n",
       "\n",
       "[88 rows x 6 columns]"
      ]
     },
     "execution_count": 14,
     "metadata": {},
     "output_type": "execute_result"
    }
   ],
   "source": [
    "test=test.dropna(axis=0)\n",
    "test_df=test[(np.abs(stats.zscore(test)) < 3).all(axis=1)]\n",
    "test_df"
   ]
  },
  {
   "cell_type": "code",
   "execution_count": 15,
   "metadata": {},
   "outputs": [
    {
     "data": {
      "text/plain": [
       "<matplotlib.collections.PathCollection at 0x1d491b40730>"
      ]
     },
     "execution_count": 15,
     "metadata": {},
     "output_type": "execute_result"
    },
    {
     "data": {
      "image/png": "[encoded data removed]",
      "text/plain": [
       "<Figure size 432x288 with 1 Axes>"
      ]
     },
     "metadata": {
      "needs_background": "light"
     },
     "output_type": "display_data"
    }
   ],
   "source": [
    "plt.scatter(train_df['height'], train_df['weight'], c= train_df['sex_M'])"
   ]
  },
  {
   "cell_type": "markdown",
   "metadata": {},
   "source": [
    "# Гистограммы "
   ]
  },
  {
   "cell_type": "code",
   "execution_count": 16,
   "metadata": {},
   "outputs": [
    {
     "data": {
      "text/plain": [
       "<matplotlib.axes._subplots.AxesSubplot at 0x1d491b01580>"
      ]
     },
     "execution_count": 16,
     "metadata": {},
     "output_type": "execute_result"
    },
    {
     "data": {
      "image/png": "[encoded data removed]",
      "text/plain": [
       "<Figure size 432x288 with 1 Axes>"
      ]
     },
     "metadata": {
      "needs_background": "light"
     },
     "output_type": "display_data"
    }
   ],
   "source": [
    "train_df['height'].hist()\n",
    "train_df[\"weight\"].hist()"
   ]
  },
  {
   "cell_type": "code",
   "execution_count": 17,
   "metadata": {},
   "outputs": [
    {
     "data": {
      "text/plain": [
       "<matplotlib.axes._subplots.AxesSubplot at 0x1d491b76d00>"
      ]
     },
     "execution_count": 17,
     "metadata": {},
     "output_type": "execute_result"
    },
    {
     "data": {
      "image/png": "[encoded data removed]",
      "text/plain": [
       "<Figure size 432x288 with 1 Axes>"
      ]
     },
     "metadata": {
      "needs_background": "light"
     },
     "output_type": "display_data"
    }
   ],
   "source": [
    "train_df_man= train_df.loc[train_df['sex_M'] ==1]\n",
    "train_df_man['height'].hist()\n",
    "train_df_man[\"weight\"].hist()"
   ]
  },
  {
   "cell_type": "code",
   "execution_count": 18,
   "metadata": {},
   "outputs": [
    {
     "data": {
      "text/plain": [
       "<matplotlib.axes._subplots.AxesSubplot at 0x1d491be5460>"
      ]
     },
     "execution_count": 18,
     "metadata": {},
     "output_type": "execute_result"
    },
    {
     "data": {
      "image/png": "[encoded data removed]",
      "text/plain": [
       "<Figure size 432x288 with 1 Axes>"
      ]
     },
     "metadata": {
      "needs_background": "light"
     },
     "output_type": "display_data"
    }
   ],
   "source": [
    "train_df_woman= train_df.loc[train_df['sex_M'] !=1]\n",
    "train_df_woman['height'].hist()\n",
    "train_df_woman[\"weight\"].hist()"
   ]
  },
  {
   "cell_type": "code",
   "execution_count": 19,
   "metadata": {},
   "outputs": [
    {
     "data": {
      "text/plain": [
       "<matplotlib.axes._subplots.AxesSubplot at 0x1d491d16220>"
      ]
     },
     "execution_count": 19,
     "metadata": {},
     "output_type": "execute_result"
    },
    {
     "data": {
      "image/png": "[encoded data removed]",
      "text/plain": [
       "<Figure size 432x288 with 1 Axes>"
      ]
     },
     "metadata": {
      "needs_background": "light"
     },
     "output_type": "display_data"
    }
   ],
   "source": [
    "train_df[\"weight\"].hist()\n",
    "train_df['repwt'].hist()"
   ]
  },
  {
   "cell_type": "code",
   "execution_count": 20,
   "metadata": {},
   "outputs": [
    {
     "data": {
      "text/plain": [
       "<matplotlib.axes._subplots.AxesSubplot at 0x1d491d9d8b0>"
      ]
     },
     "execution_count": 20,
     "metadata": {},
     "output_type": "execute_result"
    },
    {
     "data": {
      "image/png": "[encoded data removed]",
      "text/plain": [
       "<Figure size 432x288 with 1 Axes>"
      ]
     },
     "metadata": {
      "needs_background": "light"
     },
     "output_type": "display_data"
    }
   ],
   "source": [
    "train_df_man[\"weight\"].hist()\n",
    "train_df_man['repwt'].hist()"
   ]
  },
  {
   "cell_type": "code",
   "execution_count": 21,
   "metadata": {},
   "outputs": [
    {
     "data": {
      "text/plain": [
       "<matplotlib.axes._subplots.AxesSubplot at 0x1d491e27400>"
      ]
     },
     "execution_count": 21,
     "metadata": {},
     "output_type": "execute_result"
    },
    {
     "data": {
      "image/png": "[encoded data removed]",
      "text/plain": [
       "<Figure size 432x288 with 1 Axes>"
      ]
     },
     "metadata": {
      "needs_background": "light"
     },
     "output_type": "display_data"
    }
   ],
   "source": [
    "train_df_woman[\"weight\"].hist()\n",
    "train_df_woman['repwt'].hist()"
   ]
  },
  {
   "cell_type": "code",
   "execution_count": 22,
   "metadata": {},
   "outputs": [
    {
     "data": {
      "text/plain": [
       "<matplotlib.axes._subplots.AxesSubplot at 0x1d491ea7430>"
      ]
     },
     "execution_count": 22,
     "metadata": {},
     "output_type": "execute_result"
    },
    {
     "data": {
      "image/png": "[encoded data removed]",
      "text/plain": [
       "<Figure size 432x288 with 1 Axes>"
      ]
     },
     "metadata": {
      "needs_background": "light"
     },
     "output_type": "display_data"
    }
   ],
   "source": [
    "train_df['repht'].hist()\n",
    "train_df[\"height\"].hist()"
   ]
  },
  {
   "cell_type": "code",
   "execution_count": 23,
   "metadata": {},
   "outputs": [
    {
     "data": {
      "text/plain": [
       "<matplotlib.axes._subplots.AxesSubplot at 0x1d491b0ac10>"
      ]
     },
     "execution_count": 23,
     "metadata": {},
     "output_type": "execute_result"
    },
    {
     "data": {
      "image/png": "[encoded data removed]",
      "text/plain": [
       "<Figure size 432x288 with 1 Axes>"
      ]
     },
     "metadata": {
      "needs_background": "light"
     },
     "output_type": "display_data"
    }
   ],
   "source": [
    "train_df_man['repht'].hist()\n",
    "train_df_man[\"height\"].hist()"
   ]
  },
  {
   "cell_type": "code",
   "execution_count": 24,
   "metadata": {},
   "outputs": [
    {
     "data": {
      "text/plain": [
       "<matplotlib.axes._subplots.AxesSubplot at 0x1d491c6e9d0>"
      ]
     },
     "execution_count": 24,
     "metadata": {},
     "output_type": "execute_result"
    },
    {
     "data": {
      "image/png": "[encoded data removed]",
      "text/plain": [
       "<Figure size 432x288 with 1 Axes>"
      ]
     },
     "metadata": {
      "needs_background": "light"
     },
     "output_type": "display_data"
    }
   ],
   "source": [
    "train_df_woman['repht'].hist()\n",
    "train_df_woman[\"height\"].hist()"
   ]
  },
  {
   "cell_type": "code",
   "execution_count": 25,
   "metadata": {},
   "outputs": [
    {
     "name": "stdout",
     "output_type": "stream",
     "text": [
      "0.44\n",
      "0.56\n"
     ]
    }
   ],
   "source": [
    "ratio_man= man/(man+women)\n",
    "print(ratio_man)\n",
    "ratio_woman= 1- ratio_man\n",
    "print(ratio_woman)"
   ]
  },
  {
   "cell_type": "code",
   "execution_count": 26,
   "metadata": {},
   "outputs": [
    {
     "name": "stdout",
     "output_type": "stream",
     "text": [
      "[1 0 0 1 1 1 0 1 1 1 0 0 1 1 0 1 0 1 1 0 1 1 0 0 0 0 1 1 1 0 0 1 1 0 0 0 1\n",
      " 0 1 0 0 0 0 1 1 1 0 1 1 0 1 0 1 1 1 0 0 0 1 0 0 0 1 1 1 1 0 1 1 1 1 0 1 1\n",
      " 1 1 0 0 1 1 1 1 0 1 0 0 1 0 1 1 0 1 0 0 1 1 1 1 0 0]\n",
      "___________________________________________________________________________\n",
      "[0 1 1 0 0 0 1 0 0 0 1 1 0 0 1 0 1 0 0 1 0 0 1 1 1 1 0 0 0 1 1 0 0 1 1 1 0\n",
      " 1 0 1 1 1 1 0 0 0 1 0 0 1 0 1 0 0 0 1 1 1 0 1 1 1 0 0 0 0 1 0 0 0 0 1 0 0\n",
      " 0 0 1 1 0 0 0 0 1 0 1 1 0 1 0 0 1 0 1 1 0 0 0 0 1 1]\n"
     ]
    }
   ],
   "source": [
    "a=[0,1]\n",
    "sex_W_arr=np.random.choice(a,100, p=[ratio_man, ratio_woman])\n",
    "sex_M_arr=np.abs(sex_W_arr-1)\n",
    "print(sex_W_arr)\n",
    "print(\"___________________________________________________________________________\")\n",
    "print(sex_M_arr)"
   ]
  },
  {
   "cell_type": "code",
   "execution_count": 27,
   "metadata": {},
   "outputs": [
    {
     "data": {
      "text/html": [
       "<div>\n",
       "<style scoped>\n",
       "    .dataframe tbody tr th:only-of-type {\n",
       "        vertical-align: middle;\n",
       "    }\n",
       "\n",
       "    .dataframe tbody tr th {\n",
       "        vertical-align: top;\n",
       "    }\n",
       "\n",
       "    .dataframe thead th {\n",
       "        text-align: right;\n",
       "    }\n",
       "</style>\n",
       "<table border=\"1\" class=\"dataframe\">\n",
       "  <thead>\n",
       "    <tr style=\"text-align: right;\">\n",
       "      <th></th>\n",
       "      <th>weight</th>\n",
       "      <th>height</th>\n",
       "      <th>sex_F</th>\n",
       "    </tr>\n",
       "  </thead>\n",
       "  <tbody>\n",
       "    <tr>\n",
       "      <th>130</th>\n",
       "      <td>44</td>\n",
       "      <td>157</td>\n",
       "      <td>1</td>\n",
       "    </tr>\n",
       "    <tr>\n",
       "      <th>101</th>\n",
       "      <td>55</td>\n",
       "      <td>164</td>\n",
       "      <td>1</td>\n",
       "    </tr>\n",
       "    <tr>\n",
       "      <th>66</th>\n",
       "      <td>60</td>\n",
       "      <td>162</td>\n",
       "      <td>1</td>\n",
       "    </tr>\n",
       "    <tr>\n",
       "      <th>166</th>\n",
       "      <td>59</td>\n",
       "      <td>159</td>\n",
       "      <td>1</td>\n",
       "    </tr>\n",
       "    <tr>\n",
       "      <th>104</th>\n",
       "      <td>45</td>\n",
       "      <td>163</td>\n",
       "      <td>1</td>\n",
       "    </tr>\n",
       "    <tr>\n",
       "      <th>188</th>\n",
       "      <td>58</td>\n",
       "      <td>169</td>\n",
       "      <td>1</td>\n",
       "    </tr>\n",
       "    <tr>\n",
       "      <th>128</th>\n",
       "      <td>45</td>\n",
       "      <td>157</td>\n",
       "      <td>1</td>\n",
       "    </tr>\n",
       "    <tr>\n",
       "      <th>77</th>\n",
       "      <td>50</td>\n",
       "      <td>160</td>\n",
       "      <td>1</td>\n",
       "    </tr>\n",
       "    <tr>\n",
       "      <th>49</th>\n",
       "      <td>54</td>\n",
       "      <td>174</td>\n",
       "      <td>1</td>\n",
       "    </tr>\n",
       "    <tr>\n",
       "      <th>167</th>\n",
       "      <td>63</td>\n",
       "      <td>170</td>\n",
       "      <td>1</td>\n",
       "    </tr>\n",
       "    <tr>\n",
       "      <th>146</th>\n",
       "      <td>55</td>\n",
       "      <td>160</td>\n",
       "      <td>1</td>\n",
       "    </tr>\n",
       "    <tr>\n",
       "      <th>133</th>\n",
       "      <td>56</td>\n",
       "      <td>160</td>\n",
       "      <td>1</td>\n",
       "    </tr>\n",
       "    <tr>\n",
       "      <th>18</th>\n",
       "      <td>62</td>\n",
       "      <td>168</td>\n",
       "      <td>1</td>\n",
       "    </tr>\n",
       "    <tr>\n",
       "      <th>41</th>\n",
       "      <td>54</td>\n",
       "      <td>164</td>\n",
       "      <td>1</td>\n",
       "    </tr>\n",
       "    <tr>\n",
       "      <th>155</th>\n",
       "      <td>48</td>\n",
       "      <td>163</td>\n",
       "      <td>1</td>\n",
       "    </tr>\n",
       "    <tr>\n",
       "      <th>103</th>\n",
       "      <td>47</td>\n",
       "      <td>163</td>\n",
       "      <td>1</td>\n",
       "    </tr>\n",
       "    <tr>\n",
       "      <th>143</th>\n",
       "      <td>53</td>\n",
       "      <td>165</td>\n",
       "      <td>1</td>\n",
       "    </tr>\n",
       "    <tr>\n",
       "      <th>50</th>\n",
       "      <td>75</td>\n",
       "      <td>162</td>\n",
       "      <td>1</td>\n",
       "    </tr>\n",
       "    <tr>\n",
       "      <th>99</th>\n",
       "      <td>52</td>\n",
       "      <td>159</td>\n",
       "      <td>1</td>\n",
       "    </tr>\n",
       "    <tr>\n",
       "      <th>15</th>\n",
       "      <td>52</td>\n",
       "      <td>163</td>\n",
       "      <td>1</td>\n",
       "    </tr>\n",
       "    <tr>\n",
       "      <th>108</th>\n",
       "      <td>57</td>\n",
       "      <td>167</td>\n",
       "      <td>1</td>\n",
       "    </tr>\n",
       "    <tr>\n",
       "      <th>168</th>\n",
       "      <td>66</td>\n",
       "      <td>166</td>\n",
       "      <td>1</td>\n",
       "    </tr>\n",
       "    <tr>\n",
       "      <th>109</th>\n",
       "      <td>64</td>\n",
       "      <td>166</td>\n",
       "      <td>1</td>\n",
       "    </tr>\n",
       "    <tr>\n",
       "      <th>25</th>\n",
       "      <td>54</td>\n",
       "      <td>171</td>\n",
       "      <td>1</td>\n",
       "    </tr>\n",
       "    <tr>\n",
       "      <th>43</th>\n",
       "      <td>63</td>\n",
       "      <td>163</td>\n",
       "      <td>1</td>\n",
       "    </tr>\n",
       "    <tr>\n",
       "      <th>88</th>\n",
       "      <td>53</td>\n",
       "      <td>165</td>\n",
       "      <td>1</td>\n",
       "    </tr>\n",
       "    <tr>\n",
       "      <th>110</th>\n",
       "      <td>59</td>\n",
       "      <td>166</td>\n",
       "      <td>1</td>\n",
       "    </tr>\n",
       "    <tr>\n",
       "      <th>193</th>\n",
       "      <td>59</td>\n",
       "      <td>164</td>\n",
       "      <td>1</td>\n",
       "    </tr>\n",
       "    <tr>\n",
       "      <th>71</th>\n",
       "      <td>62</td>\n",
       "      <td>175</td>\n",
       "      <td>1</td>\n",
       "    </tr>\n",
       "    <tr>\n",
       "      <th>115</th>\n",
       "      <td>76</td>\n",
       "      <td>167</td>\n",
       "      <td>1</td>\n",
       "    </tr>\n",
       "    <tr>\n",
       "      <th>149</th>\n",
       "      <td>70</td>\n",
       "      <td>173</td>\n",
       "      <td>1</td>\n",
       "    </tr>\n",
       "    <tr>\n",
       "      <th>34</th>\n",
       "      <td>52</td>\n",
       "      <td>164</td>\n",
       "      <td>1</td>\n",
       "    </tr>\n",
       "    <tr>\n",
       "      <th>107</th>\n",
       "      <td>52</td>\n",
       "      <td>152</td>\n",
       "      <td>1</td>\n",
       "    </tr>\n",
       "    <tr>\n",
       "      <th>69</th>\n",
       "      <td>52</td>\n",
       "      <td>158</td>\n",
       "      <td>1</td>\n",
       "    </tr>\n",
       "    <tr>\n",
       "      <th>13</th>\n",
       "      <td>51</td>\n",
       "      <td>161</td>\n",
       "      <td>1</td>\n",
       "    </tr>\n",
       "    <tr>\n",
       "      <th>75</th>\n",
       "      <td>50</td>\n",
       "      <td>166</td>\n",
       "      <td>1</td>\n",
       "    </tr>\n",
       "    <tr>\n",
       "      <th>89</th>\n",
       "      <td>57</td>\n",
       "      <td>163</td>\n",
       "      <td>1</td>\n",
       "    </tr>\n",
       "    <tr>\n",
       "      <th>113</th>\n",
       "      <td>55</td>\n",
       "      <td>174</td>\n",
       "      <td>1</td>\n",
       "    </tr>\n",
       "    <tr>\n",
       "      <th>106</th>\n",
       "      <td>53</td>\n",
       "      <td>164</td>\n",
       "      <td>1</td>\n",
       "    </tr>\n",
       "    <tr>\n",
       "      <th>31</th>\n",
       "      <td>71</td>\n",
       "      <td>166</td>\n",
       "      <td>1</td>\n",
       "    </tr>\n",
       "    <tr>\n",
       "      <th>78</th>\n",
       "      <td>63</td>\n",
       "      <td>160</td>\n",
       "      <td>1</td>\n",
       "    </tr>\n",
       "    <tr>\n",
       "      <th>3</th>\n",
       "      <td>53</td>\n",
       "      <td>161</td>\n",
       "      <td>1</td>\n",
       "    </tr>\n",
       "    <tr>\n",
       "      <th>136</th>\n",
       "      <td>53</td>\n",
       "      <td>162</td>\n",
       "      <td>1</td>\n",
       "    </tr>\n",
       "    <tr>\n",
       "      <th>83</th>\n",
       "      <td>53</td>\n",
       "      <td>169</td>\n",
       "      <td>1</td>\n",
       "    </tr>\n",
       "    <tr>\n",
       "      <th>105</th>\n",
       "      <td>62</td>\n",
       "      <td>175</td>\n",
       "      <td>1</td>\n",
       "    </tr>\n",
       "    <tr>\n",
       "      <th>137</th>\n",
       "      <td>64</td>\n",
       "      <td>172</td>\n",
       "      <td>1</td>\n",
       "    </tr>\n",
       "    <tr>\n",
       "      <th>195</th>\n",
       "      <td>62</td>\n",
       "      <td>164</td>\n",
       "      <td>1</td>\n",
       "    </tr>\n",
       "    <tr>\n",
       "      <th>163</th>\n",
       "      <td>53</td>\n",
       "      <td>162</td>\n",
       "      <td>1</td>\n",
       "    </tr>\n",
       "  </tbody>\n",
       "</table>\n",
       "</div>"
      ],
      "text/plain": [
       "     weight  height  sex_F\n",
       "130      44     157      1\n",
       "101      55     164      1\n",
       "66       60     162      1\n",
       "166      59     159      1\n",
       "104      45     163      1\n",
       "188      58     169      1\n",
       "128      45     157      1\n",
       "77       50     160      1\n",
       "49       54     174      1\n",
       "167      63     170      1\n",
       "146      55     160      1\n",
       "133      56     160      1\n",
       "18       62     168      1\n",
       "41       54     164      1\n",
       "155      48     163      1\n",
       "103      47     163      1\n",
       "143      53     165      1\n",
       "50       75     162      1\n",
       "99       52     159      1\n",
       "15       52     163      1\n",
       "108      57     167      1\n",
       "168      66     166      1\n",
       "109      64     166      1\n",
       "25       54     171      1\n",
       "43       63     163      1\n",
       "88       53     165      1\n",
       "110      59     166      1\n",
       "193      59     164      1\n",
       "71       62     175      1\n",
       "115      76     167      1\n",
       "149      70     173      1\n",
       "34       52     164      1\n",
       "107      52     152      1\n",
       "69       52     158      1\n",
       "13       51     161      1\n",
       "75       50     166      1\n",
       "89       57     163      1\n",
       "113      55     174      1\n",
       "106      53     164      1\n",
       "31       71     166      1\n",
       "78       63     160      1\n",
       "3        53     161      1\n",
       "136      53     162      1\n",
       "83       53     169      1\n",
       "105      62     175      1\n",
       "137      64     172      1\n",
       "195      62     164      1\n",
       "163      53     162      1"
      ]
     },
     "execution_count": 27,
     "metadata": {},
     "output_type": "execute_result"
    }
   ],
   "source": [
    "for_generation_woman=train_df_woman.drop(['repwt', 'repht','sex_M'], axis='columns')\n",
    "for_generation_woman\n",
    "\n",
    "#for_generation_man=train_df_man.drop(['repwt', 'repht'], axis='columns')\n",
    "#for_generation_man=train_df_man"
   ]
  },
  {
   "cell_type": "code",
   "execution_count": 28,
   "metadata": {},
   "outputs": [
    {
     "name": "stdout",
     "output_type": "stream",
     "text": [
      "5.044307233009594 164.54166666666666\n"
     ]
    }
   ],
   "source": [
    "std_h_w=for_generation_woman.drop(['weight','sex_F'], axis='columns').std().values.astype(np.float)\n",
    "mean_h_w=for_generation_woman.drop(['weight','sex_F'], axis='columns').mean().values.astype(np.float)\n",
    "print(std_h_w[0], \n",
    "      mean_h_w[0])\n",
    "D_h_w=std_h_w[0]*std_h_w[0]\n"
   ]
  },
  {
   "cell_type": "code",
   "execution_count": 30,
   "metadata": {},
   "outputs": [
    {
     "name": "stdout",
     "output_type": "stream",
     "text": [
      "7.301874819970886 56.791666666666664\n"
     ]
    }
   ],
   "source": [
    "std_w_w=for_generation_woman.drop(['height','sex_F'], axis='columns').std().values.astype(np.float)\n",
    "mean_w_w=for_generation_woman.drop(['height','sex_F'], axis='columns').mean().values.astype(np.float)\n",
    "print(std_w_w[0], mean_w_w[0])\n",
    "D_w_w=std_w_w[0]*std_w_w[0]"
   ]
  },
  {
   "cell_type": "code",
   "execution_count": 31,
   "metadata": {},
   "outputs": [],
   "source": [
    "pre_cov=(for_generation_woman['height']-mean_h_w)*(for_generation_woman['weight']-mean_w_w)\n",
    "cov_w= np.mean(pre_cov)"
   ]
  },
  {
   "cell_type": "code",
   "execution_count": 35,
   "metadata": {},
   "outputs": [],
   "source": [
    "X_woman= np.random.multivariate_normal([mean_h_w[0], mean_w_w[0]], [[D_h_w, cov_w],[cov_w,D_w_w]],size=100)"
   ]
  },
  {
   "cell_type": "code",
   "execution_count": 36,
   "metadata": {},
   "outputs": [
    {
     "data": {
      "text/plain": [
       "array([[162.53667956,  71.16112124],\n",
       "       [169.44096198,  50.5088433 ],\n",
       "       [159.75805245,  48.38194015],\n",
       "       [159.68512605,  55.97247297],\n",
       "       [164.02345525,  49.96083682],\n",
       "       [160.6261398 ,  51.74222905],\n",
       "       [171.73485781,  59.93936052],\n",
       "       [167.52099178,  56.01202911],\n",
       "       [162.73987284,  59.62552413],\n",
       "       [160.47394012,  50.54807574],\n",
       "       [161.04078562,  40.8664526 ],\n",
       "       [157.25031731,  48.92653578],\n",
       "       [164.00255375,  44.01344564],\n",
       "       [160.48709519,  51.23016574],\n",
       "       [156.17611437,  52.30917426],\n",
       "       [164.44234577,  53.48687251],\n",
       "       [155.90808696,  56.18277622],\n",
       "       [172.90579886,  70.32799435],\n",
       "       [167.09718227,  67.57299279],\n",
       "       [169.10850176,  48.73256584],\n",
       "       [157.51475435,  55.41664583],\n",
       "       [154.57809151,  52.74957045],\n",
       "       [164.00370497,  51.91453219],\n",
       "       [164.08035531,  65.36200651],\n",
       "       [161.25840018,  50.82350071],\n",
       "       [158.39114846,  61.34555139],\n",
       "       [167.05344838,  52.17865756],\n",
       "       [161.43255869,  71.12036059],\n",
       "       [160.43238853,  48.25895174],\n",
       "       [162.51807265,  55.02261384],\n",
       "       [164.3488394 ,  61.80226958],\n",
       "       [169.10809681,  51.76353352],\n",
       "       [161.19206519,  54.73377943],\n",
       "       [163.96681062,  63.2924557 ],\n",
       "       [163.02005533,  52.7795309 ],\n",
       "       [163.32902163,  52.98019385],\n",
       "       [166.18831986,  67.98357733],\n",
       "       [159.86715003,  53.77888161],\n",
       "       [164.7981812 ,  59.1195021 ],\n",
       "       [168.13183296,  53.77530698],\n",
       "       [163.54189872,  65.9804515 ],\n",
       "       [162.49361738,  51.12823399],\n",
       "       [157.98065222,  56.55034473],\n",
       "       [165.0346534 ,  50.83506764],\n",
       "       [158.38791919,  39.9311529 ],\n",
       "       [166.96745174,  52.78058998],\n",
       "       [159.87914967,  62.03083354],\n",
       "       [157.25923321,  57.6851155 ],\n",
       "       [161.03259171,  50.42791934],\n",
       "       [167.7080825 ,  58.91168398],\n",
       "       [171.40395581,  58.24551963],\n",
       "       [162.43963822,  60.45197081],\n",
       "       [166.93018538,  67.56864855],\n",
       "       [168.78024987,  64.60835429],\n",
       "       [166.07509379,  58.03353905],\n",
       "       [166.95875814,  52.3038748 ],\n",
       "       [157.96098455,  48.84599981],\n",
       "       [171.70337542,  75.38090676],\n",
       "       [163.51070023,  58.95964397],\n",
       "       [161.5435265 ,  62.80341831],\n",
       "       [164.2709787 ,  55.32281071],\n",
       "       [171.47981354,  63.76883025],\n",
       "       [161.54291684,  46.43351783],\n",
       "       [165.18232169,  53.24985443],\n",
       "       [161.69438708,  61.19667066],\n",
       "       [171.75901535,  68.82691194],\n",
       "       [164.04563041,  60.49624987],\n",
       "       [165.95722237,  50.91688465],\n",
       "       [165.26879787,  50.99453819],\n",
       "       [156.07118322,  45.71542114],\n",
       "       [158.17851397,  50.79134998],\n",
       "       [172.97357841,  63.7689016 ],\n",
       "       [163.19875772,  47.28837579],\n",
       "       [159.58491284,  56.18234118],\n",
       "       [172.52555331,  54.78430835],\n",
       "       [159.73788718,  62.99113848],\n",
       "       [171.20087479,  67.34543817],\n",
       "       [169.1218554 ,  57.96381285],\n",
       "       [154.4809806 ,  46.07355031],\n",
       "       [170.52588927,  60.01975961],\n",
       "       [164.36344155,  53.54173665],\n",
       "       [159.27903168,  50.89830613],\n",
       "       [163.59568338,  44.92738346],\n",
       "       [168.14060219,  43.09552531],\n",
       "       [166.2599577 ,  66.63494479],\n",
       "       [162.75547335,  64.47365324],\n",
       "       [160.55203542,  52.38487825],\n",
       "       [161.01544306,  58.3448667 ],\n",
       "       [164.73151172,  54.77918216],\n",
       "       [171.40696292,  62.98230425],\n",
       "       [169.04787639,  58.98240534],\n",
       "       [167.39955193,  51.58913874],\n",
       "       [171.33162871,  60.8752638 ],\n",
       "       [168.96083309,  62.82785229],\n",
       "       [167.745909  ,  70.70318682],\n",
       "       [157.68875057,  55.66421403],\n",
       "       [159.88949968,  48.98540737],\n",
       "       [167.56948871,  50.51626055],\n",
       "       [157.11506633,  66.02601167],\n",
       "       [160.89315301,  55.61909567]])"
      ]
     },
     "execution_count": 36,
     "metadata": {},
     "output_type": "execute_result"
    }
   ],
   "source": [
    "X_woman"
   ]
  },
  {
   "cell_type": "code",
   "execution_count": 37,
   "metadata": {},
   "outputs": [
    {
     "name": "stdout",
     "output_type": "stream",
     "text": [
      "5.769930866720705 176.97619047619048\n",
      "10.414967341064838 73.33333333333333\n"
     ]
    }
   ],
   "source": [
    "for_generation_man=train_df_man\n",
    "std_h=for_generation_man.drop(['weight','sex_M'], axis='columns').std().values.astype(np.float)\n",
    "mean_h=for_generation_man.drop(['weight','sex_M'], axis='columns').mean().values.astype(np.float)\n",
    "print(std_h[0], \n",
    "      mean_h[0])\n",
    "D_h=std_h[0]*std_h[0]\n",
    "std_w=for_generation_man.drop(['height','sex_M'], axis='columns').std().values.astype(np.float)\n",
    "mean_w=for_generation_man.drop(['height','sex_M'], axis='columns').mean().values.astype(np.float)\n",
    "print(std_w[0], mean_w[0])\n",
    "D_w=std_w[0]*std_w[0]\n",
    "pre_cov=(for_generation_man['height']-mean_h[0])*(for_generation_man['weight']- mean_w[0])\n",
    "cov= np.mean(pre_cov)\n",
    "X_man= np.random.multivariate_normal([mean_h[0], mean_w[0]], [[D_h, cov],[cov,D_w]],size=100)"
   ]
  },
  {
   "cell_type": "code",
   "execution_count": 38,
   "metadata": {},
   "outputs": [
    {
     "data": {
      "text/plain": [
       "array([[180.05487262,  68.46650186],\n",
       "       [173.98047332,  78.46834955],\n",
       "       [164.27024397,  58.72279356],\n",
       "       [174.74220189,  64.59424061],\n",
       "       [174.19937344,  58.33491037],\n",
       "       [181.01880689,  75.40192845],\n",
       "       [175.02717237,  73.7578578 ],\n",
       "       [182.87071831,  73.99332874],\n",
       "       [174.71499858,  64.48978157],\n",
       "       [179.44439298,  71.23885428],\n",
       "       [173.42046122,  68.52978662],\n",
       "       [180.7820092 ,  76.54689131],\n",
       "       [165.6873735 ,  54.75990248],\n",
       "       [178.53397726,  76.75320625],\n",
       "       [170.77735115,  72.90281833],\n",
       "       [180.04403979,  80.24911774],\n",
       "       [178.27821442,  71.97309981],\n",
       "       [172.85047464,  61.0104007 ],\n",
       "       [186.33217564,  72.65852537],\n",
       "       [181.44570053,  87.08855357],\n",
       "       [184.45056548,  82.80031489],\n",
       "       [176.25342996,  84.10421114],\n",
       "       [166.84521718,  70.84696181],\n",
       "       [168.14929503,  55.08521078],\n",
       "       [170.8955349 ,  75.41527066],\n",
       "       [179.56091633,  88.80748885],\n",
       "       [181.33472808,  57.57183745],\n",
       "       [175.54612158,  56.22461175],\n",
       "       [183.93116832,  57.00927404],\n",
       "       [182.79816561,  66.04935336],\n",
       "       [165.46119306,  70.73996296],\n",
       "       [179.96018833,  61.36246633],\n",
       "       [168.89633354,  58.18901391],\n",
       "       [168.85746399,  63.94487244],\n",
       "       [177.76943205,  78.3448229 ],\n",
       "       [174.14115013,  78.77957854],\n",
       "       [178.33353457,  78.01490145],\n",
       "       [170.4363596 ,  61.47471478],\n",
       "       [176.35638845,  69.21493205],\n",
       "       [183.66984159,  88.62615141],\n",
       "       [169.04121672,  75.83446322],\n",
       "       [173.80739888,  85.95312072],\n",
       "       [174.13850372,  69.99828502],\n",
       "       [176.10884745,  57.58072584],\n",
       "       [164.3806763 ,  65.73631126],\n",
       "       [173.78940911,  62.05583268],\n",
       "       [168.31939462,  65.26294063],\n",
       "       [182.13826069,  81.33608532],\n",
       "       [178.89923545,  72.54148558],\n",
       "       [175.21146256,  74.06204997],\n",
       "       [187.85975945,  85.80970139],\n",
       "       [181.0973432 ,  81.83930821],\n",
       "       [173.23061114,  55.41769986],\n",
       "       [180.85745275,  63.87646711],\n",
       "       [168.93909937,  61.55477987],\n",
       "       [175.25991424,  93.44810761],\n",
       "       [174.30094358,  72.24817061],\n",
       "       [181.15425669,  84.46485814],\n",
       "       [183.05355309,  83.97626243],\n",
       "       [172.3719907 ,  75.94816882],\n",
       "       [184.20628819,  74.15450089],\n",
       "       [175.8334283 ,  72.18303637],\n",
       "       [183.58419882,  88.20479971],\n",
       "       [168.29575548,  66.47677292],\n",
       "       [178.75375668,  71.1605578 ],\n",
       "       [169.80698642,  46.78967257],\n",
       "       [173.32059551,  92.03537594],\n",
       "       [182.68701742,  94.02582377],\n",
       "       [183.24864118,  77.00706054],\n",
       "       [168.18544079,  43.01256949],\n",
       "       [178.86013451,  64.00686193],\n",
       "       [184.90821517,  87.37061732],\n",
       "       [169.92028426,  78.35248139],\n",
       "       [175.45358676,  74.91059933],\n",
       "       [187.35511993,  72.63813689],\n",
       "       [181.24514558,  68.22731972],\n",
       "       [175.37518842,  86.97685919],\n",
       "       [177.84254742,  63.74435179],\n",
       "       [181.04155825,  65.80274371],\n",
       "       [176.50153613,  63.89819268],\n",
       "       [177.24106326,  69.57511651],\n",
       "       [165.12775081,  57.72813904],\n",
       "       [186.11596931,  90.97487683],\n",
       "       [169.6417497 ,  74.3544122 ],\n",
       "       [182.84130603,  82.65354723],\n",
       "       [173.87062233,  79.54091888],\n",
       "       [185.91214465,  82.01058411],\n",
       "       [181.74570253,  79.16731518],\n",
       "       [175.18363664,  68.47196722],\n",
       "       [173.17679452,  71.05573262],\n",
       "       [171.12535528,  69.42286254],\n",
       "       [175.52978223,  65.636955  ],\n",
       "       [178.26492522,  54.54145233],\n",
       "       [169.27101348,  69.19350326],\n",
       "       [182.85561913,  77.642061  ],\n",
       "       [191.03903574, 103.08892498],\n",
       "       [172.9813215 ,  60.12936774],\n",
       "       [186.97678229,  75.27994548],\n",
       "       [176.60958765,  79.62302082],\n",
       "       [177.42566815,  75.31211502]])"
      ]
     },
     "execution_count": 38,
     "metadata": {},
     "output_type": "execute_result"
    }
   ],
   "source": [
    "X_man"
   ]
  },
  {
   "cell_type": "code",
   "execution_count": 39,
   "metadata": {},
   "outputs": [],
   "source": [
    "data={}\n",
    "heights_all=[]\n",
    "weights_all=[]\n",
    "\n",
    "\n",
    "for i in range(100):\n",
    "    if sex_W_arr[i]==1:\n",
    "        need= X_woman[i]\n",
    "    else:\n",
    "         need= X_man[i]\n",
    "    heights_all.append(need[0])\n",
    "    weights_all.append(need[1])    \n",
    "    \n",
    "data['height']=heights_all\n",
    "data['weight']=weights_all   \n",
    "data[\"sex_F\"]=sex_W_arr\n",
    "data[\"sex_M\"]=sex_M_arr  \n",
    "generated_df=pandas.DataFrame(data)\n"
   ]
  },
  {
   "cell_type": "code",
   "execution_count": 40,
   "metadata": {},
   "outputs": [
    {
     "data": {
      "text/html": [
       "<div>\n",
       "<style scoped>\n",
       "    .dataframe tbody tr th:only-of-type {\n",
       "        vertical-align: middle;\n",
       "    }\n",
       "\n",
       "    .dataframe tbody tr th {\n",
       "        vertical-align: top;\n",
       "    }\n",
       "\n",
       "    .dataframe thead th {\n",
       "        text-align: right;\n",
       "    }\n",
       "</style>\n",
       "<table border=\"1\" class=\"dataframe\">\n",
       "  <thead>\n",
       "    <tr style=\"text-align: right;\">\n",
       "      <th></th>\n",
       "      <th>height</th>\n",
       "      <th>weight</th>\n",
       "      <th>sex_F</th>\n",
       "      <th>sex_M</th>\n",
       "    </tr>\n",
       "  </thead>\n",
       "  <tbody>\n",
       "    <tr>\n",
       "      <th>0</th>\n",
       "      <td>162.536680</td>\n",
       "      <td>71.161121</td>\n",
       "      <td>1</td>\n",
       "      <td>0</td>\n",
       "    </tr>\n",
       "    <tr>\n",
       "      <th>1</th>\n",
       "      <td>173.980473</td>\n",
       "      <td>78.468350</td>\n",
       "      <td>0</td>\n",
       "      <td>1</td>\n",
       "    </tr>\n",
       "    <tr>\n",
       "      <th>2</th>\n",
       "      <td>164.270244</td>\n",
       "      <td>58.722794</td>\n",
       "      <td>0</td>\n",
       "      <td>1</td>\n",
       "    </tr>\n",
       "    <tr>\n",
       "      <th>3</th>\n",
       "      <td>159.685126</td>\n",
       "      <td>55.972473</td>\n",
       "      <td>1</td>\n",
       "      <td>0</td>\n",
       "    </tr>\n",
       "    <tr>\n",
       "      <th>4</th>\n",
       "      <td>164.023455</td>\n",
       "      <td>49.960837</td>\n",
       "      <td>1</td>\n",
       "      <td>0</td>\n",
       "    </tr>\n",
       "    <tr>\n",
       "      <th>...</th>\n",
       "      <td>...</td>\n",
       "      <td>...</td>\n",
       "      <td>...</td>\n",
       "      <td>...</td>\n",
       "    </tr>\n",
       "    <tr>\n",
       "      <th>95</th>\n",
       "      <td>157.688751</td>\n",
       "      <td>55.664214</td>\n",
       "      <td>1</td>\n",
       "      <td>0</td>\n",
       "    </tr>\n",
       "    <tr>\n",
       "      <th>96</th>\n",
       "      <td>159.889500</td>\n",
       "      <td>48.985407</td>\n",
       "      <td>1</td>\n",
       "      <td>0</td>\n",
       "    </tr>\n",
       "    <tr>\n",
       "      <th>97</th>\n",
       "      <td>167.569489</td>\n",
       "      <td>50.516261</td>\n",
       "      <td>1</td>\n",
       "      <td>0</td>\n",
       "    </tr>\n",
       "    <tr>\n",
       "      <th>98</th>\n",
       "      <td>176.609588</td>\n",
       "      <td>79.623021</td>\n",
       "      <td>0</td>\n",
       "      <td>1</td>\n",
       "    </tr>\n",
       "    <tr>\n",
       "      <th>99</th>\n",
       "      <td>177.425668</td>\n",
       "      <td>75.312115</td>\n",
       "      <td>0</td>\n",
       "      <td>1</td>\n",
       "    </tr>\n",
       "  </tbody>\n",
       "</table>\n",
       "<p>100 rows × 4 columns</p>\n",
       "</div>"
      ],
      "text/plain": [
       "        height     weight  sex_F  sex_M\n",
       "0   162.536680  71.161121      1      0\n",
       "1   173.980473  78.468350      0      1\n",
       "2   164.270244  58.722794      0      1\n",
       "3   159.685126  55.972473      1      0\n",
       "4   164.023455  49.960837      1      0\n",
       "..         ...        ...    ...    ...\n",
       "95  157.688751  55.664214      1      0\n",
       "96  159.889500  48.985407      1      0\n",
       "97  167.569489  50.516261      1      0\n",
       "98  176.609588  79.623021      0      1\n",
       "99  177.425668  75.312115      0      1\n",
       "\n",
       "[100 rows x 4 columns]"
      ]
     },
     "execution_count": 40,
     "metadata": {},
     "output_type": "execute_result"
    }
   ],
   "source": [
    "generated_df"
   ]
  },
  {
   "cell_type": "code",
   "execution_count": 41,
   "metadata": {},
   "outputs": [
    {
     "data": {
      "text/plain": [
       "<matplotlib.collections.PathCollection at 0x1d491ab5c40>"
      ]
     },
     "execution_count": 41,
     "metadata": {},
     "output_type": "execute_result"
    },
    {
     "data": {
      "image/png": "[encoded data removed]",
      "text/plain": [
       "<Figure size 432x288 with 1 Axes>"
      ]
     },
     "metadata": {
      "needs_background": "light"
     },
     "output_type": "display_data"
    }
   ],
   "source": [
    "scat_h=[]\n",
    "scat_w=[]\n",
    "for i in range(len(X_man)):\n",
    "    n=X_man[i]\n",
    "    scat_h.append(n[0])\n",
    "    scat_w.append(n[1])\n",
    "\n",
    "plt.scatter(scat_h,scat_w)"
   ]
  },
  {
   "cell_type": "code",
   "execution_count": 42,
   "metadata": {},
   "outputs": [
    {
     "data": {
      "text/plain": [
       "<matplotlib.collections.PathCollection at 0x1d49216d340>"
      ]
     },
     "execution_count": 42,
     "metadata": {},
     "output_type": "execute_result"
    },
    {
     "data": {
      "image/png": "[encoded data removed]",
      "text/plain": [
       "<Figure size 432x288 with 1 Axes>"
      ]
     },
     "metadata": {
      "needs_background": "light"
     },
     "output_type": "display_data"
    }
   ],
   "source": [
    "scat_h=[]\n",
    "scat_w=[]\n",
    "for i in range(len(X_woman)):\n",
    "    n=X_woman[i]\n",
    "    scat_h.append(n[0])\n",
    "    scat_w.append(n[1])\n",
    "\n",
    "plt.scatter(scat_h,scat_w)"
   ]
  },
  {
   "cell_type": "code",
   "execution_count": 57,
   "metadata": {},
   "outputs": [
    {
     "name": "stdout",
     "output_type": "stream",
     "text": [
      "(100,)\n"
     ]
    },
    {
     "data": {
      "text/plain": [
       "<matplotlib.contour.QuadContourSet at 0x1d493885490>"
      ]
     },
     "execution_count": 57,
     "metadata": {},
     "output_type": "execute_result"
    },
    {
     "data": {
      "image/png": "[encoded data removed]",
      "text/plain": [
       "<Figure size 432x288 with 1 Axes>"
      ]
     },
     "metadata": {
      "needs_background": "light"
     },
     "output_type": "display_data"
    }
   ],
   "source": [
    "import scipy.stats\n",
    "ww,bb = np.mgrid[0:200:10j, 0:200:10j]\n",
    "pdf = scipy.stats.multivariate_normal.pdf(X_woman,mean=[mean_h_w[0], mean_w_w[0]],cov=[[D_h_w, cov_w],[cov_w,D_w_w]])\n",
    "print(pdf.shape)\n",
    "plt.contourf(ww, bb, pdf.reshape(ww.shape))"
   ]
  },
  {
   "cell_type": "code",
   "execution_count": 58,
   "metadata": {},
   "outputs": [
    {
     "name": "stdout",
     "output_type": "stream",
     "text": [
      "(100,)\n"
     ]
    },
    {
     "data": {
      "text/plain": [
       "<matplotlib.contour.QuadContourSet at 0x1d4938fe4f0>"
      ]
     },
     "execution_count": 58,
     "metadata": {},
     "output_type": "execute_result"
    },
    {
     "data": {
      "image/png": "[encoded data removed]",
      "text/plain": [
       "<Figure size 432x288 with 1 Axes>"
      ]
     },
     "metadata": {
      "needs_background": "light"
     },
     "output_type": "display_data"
    }
   ],
   "source": [
    "\n",
    "ww,bb = np.mgrid[0:200:10j, 0:200:10j]\n",
    "pdf = scipy.stats.multivariate_normal.pdf(X_man,mean=[mean_h[0], mean_w[0]],cov=[[D_h, cov],[cov,D_w]])\n",
    "print(pdf.shape)\n",
    "plt.contourf(ww, bb, pdf.reshape(ww.shape))"
   ]
  },
  {
   "cell_type": "markdown",
   "metadata": {},
   "source": [
    "# Задание 2\n"
   ]
  },
  {
   "cell_type": "code",
   "execution_count": 59,
   "metadata": {},
   "outputs": [
    {
     "data": {
      "text/plain": [
       "<matplotlib.collections.PathCollection at 0x1d493acb6a0>"
      ]
     },
     "execution_count": 59,
     "metadata": {},
     "output_type": "execute_result"
    },
    {
     "data": {
      "image/png": "[encoded data removed]",
      "text/plain": [
       "<Figure size 432x288 with 1 Axes>"
      ]
     },
     "metadata": {
      "needs_background": "light"
     },
     "output_type": "display_data"
    }
   ],
   "source": [
    "from sklearn.linear_model import LinearRegression\n",
    "plt.scatter(train_df['weight'], train_df[\"height\"])"
   ]
  },
  {
   "cell_type": "code",
   "execution_count": 60,
   "metadata": {},
   "outputs": [
    {
     "name": "stdout",
     "output_type": "stream",
     "text": [
      "[[157.]\n",
      " [168.]\n",
      " [164.]\n",
      " [169.]\n",
      " [181.]\n",
      " [186.]\n",
      " [173.]\n",
      " [182.]\n",
      " [176.]\n",
      " [175.]\n",
      " [182.]\n",
      " [170.]\n",
      " [162.]\n",
      " [159.]\n",
      " [163.]\n",
      " [178.]\n",
      " [169.]\n",
      " [169.]\n",
      " [157.]\n",
      " [184.]\n",
      " [167.]\n",
      " [160.]\n",
      " [174.]\n",
      " [185.]\n",
      " [170.]\n",
      " [160.]\n",
      " [160.]\n",
      " [173.]\n",
      " [168.]\n",
      " [176.]\n",
      " [164.]\n",
      " [163.]\n",
      " [163.]\n",
      " [180.]\n",
      " [178.]\n",
      " [179.]\n",
      " [165.]\n",
      " [162.]\n",
      " [178.]\n",
      " [159.]\n",
      " [173.]\n",
      " [163.]\n",
      " [167.]\n",
      " [175.]\n",
      " [178.]\n",
      " [174.]\n",
      " [182.]\n",
      " [174.]\n",
      " [166.]\n",
      " [166.]\n",
      " [171.]\n",
      " [163.]\n",
      " [177.]\n",
      " [165.]\n",
      " [178.]\n",
      " [166.]\n",
      " [164.]\n",
      " [175.]\n",
      " [184.]\n",
      " [183.]\n",
      " [167.]\n",
      " [173.]\n",
      " [185.]\n",
      " [173.]\n",
      " [177.]\n",
      " [164.]\n",
      " [152.]\n",
      " [158.]\n",
      " [169.]\n",
      " [161.]\n",
      " [166.]\n",
      " [163.]\n",
      " [174.]\n",
      " [164.]\n",
      " [178.]\n",
      " [169.]\n",
      " [166.]\n",
      " [183.]\n",
      " [160.]\n",
      " [161.]\n",
      " [162.]\n",
      " [169.]\n",
      " [175.]\n",
      " [167.]\n",
      " [172.]\n",
      " [191.]\n",
      " [164.]\n",
      " [176.]\n",
      " [162.]\n",
      " [178.]] [44. 62. 55. 54. 90. 69. 70. 59. 80. 74. 69. 61. 60. 59. 45. 88. 58. 74.\n",
      " 45. 88. 76. 50. 54. 88. 63. 55. 56. 57. 62. 65. 54. 48. 47. 71. 78. 85.\n",
      " 53. 75. 65. 52. 66. 52. 57. 70. 81. 69. 82. 68. 66. 64. 54. 63. 71. 53.\n",
      " 62. 59. 59. 62. 96. 84. 76. 70. 87. 70. 68. 52. 52. 52. 76. 51. 50. 57.\n",
      " 55. 53. 63. 75. 71. 69. 63. 53. 53. 53. 62. 69. 64. 96. 62. 64. 53. 71.]\n"
     ]
    },
    {
     "data": {
      "text/plain": [
       "LinearRegression()"
      ]
     },
     "execution_count": 60,
     "metadata": {},
     "output_type": "execute_result"
    }
   ],
   "source": [
    "lreg=LinearRegression()\n",
    "reg_h_train=train_df[[\"height\"]].values.astype(np.float)\n",
    "\n",
    "reg_w_train=train_df['weight'].values.astype(np.float)\n",
    "print(reg_h_train, reg_w_train )\n",
    "lreg.fit(reg_h_train, reg_w_train)"
   ]
  },
  {
   "cell_type": "code",
   "execution_count": 61,
   "metadata": {},
   "outputs": [],
   "source": [
    "lreg_pred=lreg.predict(test_df[[\"height\"]])"
   ]
  },
  {
   "cell_type": "code",
   "execution_count": 62,
   "metadata": {},
   "outputs": [
    {
     "data": {
      "image/png": "[encoded data removed]",
      "text/plain": [
       "<Figure size 432x288 with 1 Axes>"
      ]
     },
     "metadata": {
      "needs_background": "light"
     },
     "output_type": "display_data"
    }
   ],
   "source": [
    "plt.scatter(train_df[\"height\"], train_df['weight'])\n",
    "plt.plot(test_df[\"height\"], lreg_pred, label=\"prediction\")\n",
    "plt.xlabel(\"height\")\n",
    "plt.ylabel(\"weight\")\n",
    "plt.legend()\n",
    "plt.show()"
   ]
  },
  {
   "cell_type": "code",
   "execution_count": 63,
   "metadata": {},
   "outputs": [
    {
     "data": {
      "text/plain": [
       "60.816532425244965"
      ]
     },
     "execution_count": 63,
     "metadata": {},
     "output_type": "execute_result"
    }
   ],
   "source": [
    "from sklearn.metrics import mean_squared_error\n",
    "mean_squared_error(test_df['weight'], lreg_pred)"
   ]
  },
  {
   "cell_type": "code",
   "execution_count": 64,
   "metadata": {},
   "outputs": [],
   "source": [
    "def get_error(w_,predict_w,len_):\n",
    "    err=[]\n",
    "    for i in range(len_):\n",
    "        err.append(1/len_*((w_[i]-predict_w[i])**2))\n",
    "    return(err)\n",
    "    "
   ]
  },
  {
   "cell_type": "code",
   "execution_count": 65,
   "metadata": {},
   "outputs": [],
   "source": [
    "errs=get_error(test_df['weight'].values.astype(np.float),lreg_pred, len(lreg_pred ))\n",
    "ww,bb = np.mgrid[0:2:200j, -200:200:200j]\n"
   ]
  },
  {
   "cell_type": "code",
   "execution_count": 66,
   "metadata": {},
   "outputs": [
    {
     "data": {
      "text/plain": [
       "<mpl_toolkits.mplot3d.art3d.Line3DCollection at 0x1d493b9ae80>"
      ]
     },
     "execution_count": 66,
     "metadata": {},
     "output_type": "execute_result"
    },
    {
     "data": {
      "image/png": "[encoded data removed]",
      "text/plain": [
       "<Figure size 432x288 with 1 Axes>"
      ]
     },
     "metadata": {
      "needs_background": "light"
     },
     "output_type": "display_data"
    }
   ],
   "source": [
    "err = []\n",
    "h_ = train_df['height'].values.astype(np.float)\n",
    "w_ = train_df['weight'].values.astype(np.float)\n",
    "for w, b in zip(ww.ravel(),bb.ravel()):\n",
    "    err.append(1/len(h_) * np.sum((w_ - w * h_ - b)**2))\n",
    "err = np.array(err)\n",
    "fig = plt.figure()\n",
    "ax = fig.add_subplot('111', projection='3d')\n",
    "ax.plot_wireframe(ww, bb, err.reshape(ww.shape))"
   ]
  },
  {
   "cell_type": "code",
   "execution_count": 67,
   "metadata": {},
   "outputs": [
    {
     "data": {
      "image/png": "[encoded data removed]",
      "text/plain": [
       "<Figure size 432x288 with 1 Axes>"
      ]
     },
     "metadata": {
      "needs_background": "light"
     },
     "output_type": "display_data"
    }
   ],
   "source": [
    "plt.contourf(ww,bb,err.reshape(ww.shape),levels=100)\n",
    "www = np.linspace(ww.min(),ww.max(),4)\n",
    "bbb = np.linspace(bb.min(),bb.max(),4)\n"
   ]
  },
  {
   "cell_type": "code",
   "execution_count": 68,
   "metadata": {},
   "outputs": [
    {
     "data": {
      "text/html": [
       "<div>\n",
       "<style scoped>\n",
       "    .dataframe tbody tr th:only-of-type {\n",
       "        vertical-align: middle;\n",
       "    }\n",
       "\n",
       "    .dataframe tbody tr th {\n",
       "        vertical-align: top;\n",
       "    }\n",
       "\n",
       "    .dataframe thead th {\n",
       "        text-align: right;\n",
       "    }\n",
       "</style>\n",
       "<table border=\"1\" class=\"dataframe\">\n",
       "  <thead>\n",
       "    <tr style=\"text-align: right;\">\n",
       "      <th></th>\n",
       "      <th>weight</th>\n",
       "      <th>height</th>\n",
       "      <th>sex_M</th>\n",
       "    </tr>\n",
       "  </thead>\n",
       "  <tbody>\n",
       "    <tr>\n",
       "      <th>130</th>\n",
       "      <td>44</td>\n",
       "      <td>157</td>\n",
       "      <td>0</td>\n",
       "    </tr>\n",
       "    <tr>\n",
       "      <th>175</th>\n",
       "      <td>62</td>\n",
       "      <td>168</td>\n",
       "      <td>1</td>\n",
       "    </tr>\n",
       "    <tr>\n",
       "      <th>101</th>\n",
       "      <td>55</td>\n",
       "      <td>164</td>\n",
       "      <td>0</td>\n",
       "    </tr>\n",
       "    <tr>\n",
       "      <th>156</th>\n",
       "      <td>54</td>\n",
       "      <td>169</td>\n",
       "      <td>1</td>\n",
       "    </tr>\n",
       "    <tr>\n",
       "      <th>199</th>\n",
       "      <td>90</td>\n",
       "      <td>181</td>\n",
       "      <td>1</td>\n",
       "    </tr>\n",
       "    <tr>\n",
       "      <th>...</th>\n",
       "      <td>...</td>\n",
       "      <td>...</td>\n",
       "      <td>...</td>\n",
       "    </tr>\n",
       "    <tr>\n",
       "      <th>169</th>\n",
       "      <td>96</td>\n",
       "      <td>191</td>\n",
       "      <td>1</td>\n",
       "    </tr>\n",
       "    <tr>\n",
       "      <th>195</th>\n",
       "      <td>62</td>\n",
       "      <td>164</td>\n",
       "      <td>0</td>\n",
       "    </tr>\n",
       "    <tr>\n",
       "      <th>36</th>\n",
       "      <td>64</td>\n",
       "      <td>176</td>\n",
       "      <td>1</td>\n",
       "    </tr>\n",
       "    <tr>\n",
       "      <th>163</th>\n",
       "      <td>53</td>\n",
       "      <td>162</td>\n",
       "      <td>0</td>\n",
       "    </tr>\n",
       "    <tr>\n",
       "      <th>9</th>\n",
       "      <td>71</td>\n",
       "      <td>178</td>\n",
       "      <td>1</td>\n",
       "    </tr>\n",
       "  </tbody>\n",
       "</table>\n",
       "<p>90 rows × 3 columns</p>\n",
       "</div>"
      ],
      "text/plain": [
       "     weight  height  sex_M\n",
       "130      44     157      0\n",
       "175      62     168      1\n",
       "101      55     164      0\n",
       "156      54     169      1\n",
       "199      90     181      1\n",
       "..      ...     ...    ...\n",
       "169      96     191      1\n",
       "195      62     164      0\n",
       "36       64     176      1\n",
       "163      53     162      0\n",
       "9        71     178      1\n",
       "\n",
       "[90 rows x 3 columns]"
      ]
     },
     "execution_count": 68,
     "metadata": {},
     "output_type": "execute_result"
    }
   ],
   "source": [
    "new_train_df=train_df.drop([\"sex_F\"], axis=1)\n",
    "new_train_df=new_train_df.drop([\"repwt\"], axis=1)\n",
    "new_train_df=new_train_df.drop([\"repht\"], axis=1)\n",
    "new_train_df"
   ]
  },
  {
   "cell_type": "code",
   "execution_count": 69,
   "metadata": {},
   "outputs": [
    {
     "data": {
      "text/plain": [
       "LinearRegression()"
      ]
     },
     "execution_count": 69,
     "metadata": {},
     "output_type": "execute_result"
    }
   ],
   "source": [
    "lr_new= LinearRegression()\n",
    "lr_new.fit(new_train_df.drop([\"weight\"], axis=1).values.astype(np.float), new_train_df[\"weight\"].values.astype(np.float))"
   ]
  },
  {
   "cell_type": "code",
   "execution_count": 70,
   "metadata": {},
   "outputs": [
    {
     "data": {
      "text/html": [
       "<div>\n",
       "<style scoped>\n",
       "    .dataframe tbody tr th:only-of-type {\n",
       "        vertical-align: middle;\n",
       "    }\n",
       "\n",
       "    .dataframe tbody tr th {\n",
       "        vertical-align: top;\n",
       "    }\n",
       "\n",
       "    .dataframe thead th {\n",
       "        text-align: right;\n",
       "    }\n",
       "</style>\n",
       "<table border=\"1\" class=\"dataframe\">\n",
       "  <thead>\n",
       "    <tr style=\"text-align: right;\">\n",
       "      <th></th>\n",
       "      <th>weight</th>\n",
       "      <th>height</th>\n",
       "      <th>sex_M</th>\n",
       "    </tr>\n",
       "  </thead>\n",
       "  <tbody>\n",
       "    <tr>\n",
       "      <th>187</th>\n",
       "      <td>60</td>\n",
       "      <td>172</td>\n",
       "      <td>0</td>\n",
       "    </tr>\n",
       "    <tr>\n",
       "      <th>24</th>\n",
       "      <td>66</td>\n",
       "      <td>173</td>\n",
       "      <td>1</td>\n",
       "    </tr>\n",
       "    <tr>\n",
       "      <th>67</th>\n",
       "      <td>64</td>\n",
       "      <td>165</td>\n",
       "      <td>0</td>\n",
       "    </tr>\n",
       "    <tr>\n",
       "      <th>117</th>\n",
       "      <td>83</td>\n",
       "      <td>184</td>\n",
       "      <td>1</td>\n",
       "    </tr>\n",
       "    <tr>\n",
       "      <th>65</th>\n",
       "      <td>97</td>\n",
       "      <td>189</td>\n",
       "      <td>1</td>\n",
       "    </tr>\n",
       "    <tr>\n",
       "      <th>...</th>\n",
       "      <td>...</td>\n",
       "      <td>...</td>\n",
       "      <td>...</td>\n",
       "    </tr>\n",
       "    <tr>\n",
       "      <th>42</th>\n",
       "      <td>80</td>\n",
       "      <td>178</td>\n",
       "      <td>1</td>\n",
       "    </tr>\n",
       "    <tr>\n",
       "      <th>162</th>\n",
       "      <td>54</td>\n",
       "      <td>161</td>\n",
       "      <td>0</td>\n",
       "    </tr>\n",
       "    <tr>\n",
       "      <th>74</th>\n",
       "      <td>56</td>\n",
       "      <td>163</td>\n",
       "      <td>0</td>\n",
       "    </tr>\n",
       "    <tr>\n",
       "      <th>139</th>\n",
       "      <td>90</td>\n",
       "      <td>188</td>\n",
       "      <td>1</td>\n",
       "    </tr>\n",
       "    <tr>\n",
       "      <th>160</th>\n",
       "      <td>57</td>\n",
       "      <td>167</td>\n",
       "      <td>0</td>\n",
       "    </tr>\n",
       "  </tbody>\n",
       "</table>\n",
       "<p>88 rows × 3 columns</p>\n",
       "</div>"
      ],
      "text/plain": [
       "     weight  height  sex_M\n",
       "187      60     172      0\n",
       "24       66     173      1\n",
       "67       64     165      0\n",
       "117      83     184      1\n",
       "65       97     189      1\n",
       "..      ...     ...    ...\n",
       "42       80     178      1\n",
       "162      54     161      0\n",
       "74       56     163      0\n",
       "139      90     188      1\n",
       "160      57     167      0\n",
       "\n",
       "[88 rows x 3 columns]"
      ]
     },
     "execution_count": 70,
     "metadata": {},
     "output_type": "execute_result"
    }
   ],
   "source": [
    "new_test_df=test_df.drop([\"sex_F\"], axis=1)\n",
    "new_test_df=new_test_df.drop([\"repwt\"], axis=1)\n",
    "new_test_df=new_test_df.drop([\"repht\"], axis=1)\n",
    "new_test_df"
   ]
  },
  {
   "cell_type": "code",
   "execution_count": 71,
   "metadata": {},
   "outputs": [],
   "source": [
    "lr_pred_new=lr_new.predict(new_test_df.drop([\"weight\"], axis=1).values.astype(np.float))"
   ]
  },
  {
   "cell_type": "code",
   "execution_count": 72,
   "metadata": {},
   "outputs": [
    {
     "data": {
      "text/plain": [
       "<matplotlib.collections.PathCollection at 0x1d493d3db20>"
      ]
     },
     "execution_count": 72,
     "metadata": {},
     "output_type": "execute_result"
    },
    {
     "data": {
      "image/png": "[encoded data removed]",
      "text/plain": [
       "<Figure size 432x288 with 1 Axes>"
      ]
     },
     "metadata": {
      "needs_background": "light"
     },
     "output_type": "display_data"
    }
   ],
   "source": [
    "train_df_man = new_train_df.loc[new_train_df['sex_M'] ==1]\n",
    "test_df_man = new_test_df.loc[new_test_df['sex_M'] ==1]\n",
    "plt.scatter(train_df_man[\"height\"], train_df_man['weight'])\n"
   ]
  },
  {
   "cell_type": "code",
   "execution_count": 73,
   "metadata": {},
   "outputs": [
    {
     "data": {
      "text/plain": [
       "56.14443248928912"
      ]
     },
     "execution_count": 73,
     "metadata": {},
     "output_type": "execute_result"
    }
   ],
   "source": [
    "mean_squared_error(new_test_df['weight'], lr_pred_new)"
   ]
  },
  {
   "cell_type": "markdown",
   "metadata": {},
   "source": [
    "# Градиентным спуском"
   ]
  },
  {
   "cell_type": "code",
   "execution_count": 74,
   "metadata": {},
   "outputs": [],
   "source": [
    "gr_train_df=train_df.drop([\"sex_F\",\"sex_M\",\"repwt\",\"repht\"], axis='columns')"
   ]
  },
  {
   "cell_type": "code",
   "execution_count": 75,
   "metadata": {},
   "outputs": [
    {
     "data": {
      "text/plain": [
       "weight     64.511111\n",
       "height    170.344444\n",
       "dtype: float64"
      ]
     },
     "execution_count": 75,
     "metadata": {},
     "output_type": "execute_result"
    }
   ],
   "source": [
    "gr_train_df.mean()"
   ]
  },
  {
   "cell_type": "code",
   "execution_count": 76,
   "metadata": {},
   "outputs": [
    {
     "data": {
      "text/plain": [
       "weight    12.124119\n",
       "height     8.227333\n",
       "dtype: float64"
      ]
     },
     "execution_count": 76,
     "metadata": {},
     "output_type": "execute_result"
    }
   ],
   "source": [
    "gr_train_df.std()"
   ]
  },
  {
   "cell_type": "code",
   "execution_count": 77,
   "metadata": {},
   "outputs": [],
   "source": [
    "gr_train_df_scale = (gr_train_df - gr_train_df.mean()) / gr_train_df.std()"
   ]
  },
  {
   "cell_type": "code",
   "execution_count": 78,
   "metadata": {},
   "outputs": [],
   "source": [
    "ww,bb = np.mgrid[-1:1:200j, -5:5:200j]\n",
    "L = []\n",
    "for w, b in zip(ww.ravel(),bb.ravel()):\n",
    "    L.append(1/len(gr_train_df_scale['height'].values) * np.sum((gr_train_df_scale['weight'].values - w * gr_train_df_scale['height'].values - b)**2))\n",
    "L = np.array(L)"
   ]
  },
  {
   "cell_type": "code",
   "execution_count": 79,
   "metadata": {},
   "outputs": [
    {
     "data": {
      "text/plain": [
       "<mpl_toolkits.mplot3d.art3d.Line3DCollection at 0x1d491a0d7c0>"
      ]
     },
     "execution_count": 79,
     "metadata": {},
     "output_type": "execute_result"
    },
    {
     "data": {
      "image/png": "[encoded data removed]",
      "text/plain": [
       "<Figure size 432x288 with 1 Axes>"
      ]
     },
     "metadata": {
      "needs_background": "light"
     },
     "output_type": "display_data"
    }
   ],
   "source": [
    "fig = plt.figure()\n",
    "ax = fig.add_subplot('111', projection='3d')\n",
    "ax.plot_wireframe(ww, bb, L.reshape(ww.shape))"
   ]
  },
  {
   "cell_type": "code",
   "execution_count": 80,
   "metadata": {},
   "outputs": [
    {
     "data": {
      "image/png": "[encoded data removed]",
      "text/plain": [
       "<Figure size 432x288 with 1 Axes>"
      ]
     },
     "metadata": {
      "needs_background": "light"
     },
     "output_type": "display_data"
    }
   ],
   "source": [
    "plt.contourf(ww,bb,L.reshape(ww.shape),levels=100)\n",
    "www = np.linspace(ww.min(),ww.max(),4)\n",
    "bbb = np.linspace(bb.min(),bb.max(),4)"
   ]
  },
  {
   "cell_type": "code",
   "execution_count": 81,
   "metadata": {},
   "outputs": [
    {
     "name": "stdout",
     "output_type": "stream",
     "text": [
      "w= 0.7449196939117323 , b = 8.204156705732936e-09\n",
      "min = 0.4401491573080821\n"
     ]
    }
   ],
   "source": [
    "w = 1\n",
    "b = 1\n",
    "alpha = 0.002\n",
    "\n",
    "x = gr_train_df_scale['height'].values\n",
    "y = gr_train_df_scale['weight'].values\n",
    "N = len(x)\n",
    "E = 2\n",
    "\n",
    "\n",
    "\n",
    "for i in range(9300):\n",
    "    min_ = (1/N * np.sum((y - w * x - b)**2))\n",
    "    d_yh = (w * x + b - y)\n",
    "    d_w = np.mean(d_yh * x)\n",
    "    d_b = np.mean(d_yh)\n",
    "    norm = np.sqrt(d_w**2 + d_b**2)\n",
    "    \n",
    "    if norm > E:\n",
    "        small_n = norm / E\n",
    "        d_w = d_w/ small_n\n",
    "        d_b = d_b / small_n\n",
    "    w = w - alpha * d_w\n",
    "    b = b - alpha * d_b\n",
    "print(\"w= {} , b = {}\".format(w,b))\n",
    "print(\"min = {}\".format( min_))"
   ]
  },
  {
   "cell_type": "code",
   "execution_count": 82,
   "metadata": {},
   "outputs": [
    {
     "data": {
      "text/plain": [
       "array([0.74491969])"
      ]
     },
     "execution_count": 82,
     "metadata": {},
     "output_type": "execute_result"
    }
   ],
   "source": [
    "gr_lr = LinearRegression().fit(gr_train_df_scale['height'].values.reshape(-1,1),gr_train_df_scale['weight'].values)\n",
    "gr_lr.coef_"
   ]
  },
  {
   "cell_type": "code",
   "execution_count": null,
   "metadata": {},
   "outputs": [],
   "source": []
  }
 ],
 "metadata": {
  "kernelspec": {
   "display_name": "Python 3",
   "language": "python",
   "name": "python3"
  },
  "language_info": {
   "codemirror_mode": {
    "name": "ipython",
    "version": 3
   },
   "file_extension": ".py",
   "mimetype": "text/x-python",
   "name": "python",
   "nbconvert_exporter": "python",
   "pygments_lexer": "ipython3",
   "version": "3.8.3"
  }
 },
 "nbformat": 4,
 "nbformat_minor": 4
}
